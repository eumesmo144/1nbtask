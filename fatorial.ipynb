{
 "cells": [
  {
   "cell_type": "markdown",
   "id": "56c940a62c32e754",
   "metadata": {},
   "source": [
    "# Cálculo do Fatorial\n",
    "\n",
    "Este script em Python calcula o fatorial de um número fornecido usando recursão.\n",
    "\n",
    "## Como o script funciona:\n",
    "\n",
    "- **Definição da função**: Uma função recursiva `factorial(n)` calcula o fatorial de `n`.\n",
    "- **Caso base**: Se `n` for 0 ou 1, a função retorna 1.\n",
    "- **Caso recursivo**: Caso contrário, a função multiplica `n` pelo fatorial de `n-1`.\n",
    "- **Entrada**: O script recebe um número inteiro como entrada do usuário.\n",
    "- **Saída**: Ele imprime o fatorial do número inserido.\n",
    "\n",
    "### Exemplo de Uso:\n",
    "\n",
    "Se você inserir o número `5`, o script calculará:\n",
    "\n",
    "`5! = 5 * 4 * 3 * 2 * 1 = 120`\n",
    "\n",
    "### Equação do Fatorial:\n",
    "\n",
    "O fatorial de um número inteiro não negativo \\( n \\) é o produto de todos os inteiros positivos menores ou iguais a \\( n \\). Ele é denotado por \\( n! \\) e pode ser representado como:\n",
    "\n",
    "\\[\n",
    "n! = n \\times (n-1) \\times (n-2) \\times \\ldots \\times 1\n",
    "\\]\n",
    "\n",
    "Para \\( n = 0 \\), definimos \\( 0! = 1 \\).\n"
   ]
  },
  {
   "cell_type": "code",
   "execution_count": null,
   "id": "c1d6279c5c60595b",
   "metadata": {},
   "outputs": [],
   "source": [
    "def factorial(n):\n",
    "    if n == 0 or n == 1:\n",
    "        return 1\n",
    "    else:\n",
    "        return n * factorial(n - 1)\n",
    "\n",
    "num = int(input(\"Insira um número para resgatar fatorial: \"))\n",
    "\n",
    "print(f\"A fatorial de{num} de {factorial(num)}\")\n"
   ]
  },
  {
   "metadata": {
    "ExecuteTime": {
     "end_time": "2024-09-15T18:37:14.988238Z",
     "start_time": "2024-09-15T18:37:13.299700Z"
    }
   },
   "cell_type": "code",
   "source": "!jt -t onedork",
   "id": "502b8de8c0ca173",
   "outputs": [],
   "execution_count": 1
  }
 ],
 "metadata": {
  "kernelspec": {
   "display_name": "Python 3 (ipykernel)",
   "language": "python",
   "name": "python3"
  },
  "language_info": {
   "codemirror_mode": {
    "name": "ipython",
    "version": 3
   },
   "file_extension": ".py",
   "mimetype": "text/x-python",
   "name": "python",
   "nbconvert_exporter": "python",
   "pygments_lexer": "ipython3",
   "version": "3.12.5"
  }
 },
 "nbformat": 4,
 "nbformat_minor": 5
}
