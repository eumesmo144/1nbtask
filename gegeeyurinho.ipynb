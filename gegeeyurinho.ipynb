{
  "cells": [
    {
      "cell_type": "markdown",
      "metadata": {
        "id": "view-in-github",
        "colab_type": "text"
      },
      "source": [
        "<a href=\"https://colab.research.google.com/github/eumesmo144/1nbtask/blob/master/gegeeyurinho.ipynb\" target=\"_parent\"><img src=\"https://colab.research.google.com/assets/colab-badge.svg\" alt=\"Open In Colab\"/></a>"
      ]
    },
    {
      "cell_type": "markdown",
      "metadata": {
        "id": "xYEIlrIsU4_L"
      },
      "source": [
        "##1 - TELESCÓPIO MAGIC (Major Atmospheric Gamma Imaging Cherenkov)"
      ]
    },
    {
      "cell_type": "code",
      "execution_count": 159,
      "metadata": {
        "colab": {
          "base_uri": "https://localhost:8080/"
        },
        "id": "N3Bxef3d83-b",
        "outputId": "9d3acb87-4989-4600-ebd1-0bed83541125"
      },
      "outputs": [
        {
          "output_type": "stream",
          "name": "stdout",
          "text": [
            "Requirement already satisfied: ucimlrepo in /usr/local/lib/python3.11/dist-packages (0.0.7)\n",
            "Requirement already satisfied: pandas>=1.0.0 in /usr/local/lib/python3.11/dist-packages (from ucimlrepo) (2.2.2)\n",
            "Requirement already satisfied: certifi>=2020.12.5 in /usr/local/lib/python3.11/dist-packages (from ucimlrepo) (2025.1.31)\n",
            "Requirement already satisfied: numpy>=1.23.2 in /usr/local/lib/python3.11/dist-packages (from pandas>=1.0.0->ucimlrepo) (1.26.4)\n",
            "Requirement already satisfied: python-dateutil>=2.8.2 in /usr/local/lib/python3.11/dist-packages (from pandas>=1.0.0->ucimlrepo) (2.8.2)\n",
            "Requirement already satisfied: pytz>=2020.1 in /usr/local/lib/python3.11/dist-packages (from pandas>=1.0.0->ucimlrepo) (2025.1)\n",
            "Requirement already satisfied: tzdata>=2022.7 in /usr/local/lib/python3.11/dist-packages (from pandas>=1.0.0->ucimlrepo) (2025.1)\n",
            "Requirement already satisfied: six>=1.5 in /usr/local/lib/python3.11/dist-packages (from python-dateutil>=2.8.2->pandas>=1.0.0->ucimlrepo) (1.17.0)\n"
          ]
        }
      ],
      "source": [
        "!pip install ucimlrepo\n",
        "import numpy as np\n",
        "import pandas as pd\n",
        "from ucimlrepo import fetch_ucirepo\n",
        "from sklearn import metrics\n",
        "from sklearn import preprocessing\n",
        "from sklearn.model_selection import train_test_split\n",
        "from sklearn.model_selection import StratifiedKFold\n",
        "from sklearn.neural_network import MLPClassifier\n",
        "from sklearn.neighbors import KNeighborsClassifier\n",
        "from sklearn.tree import DecisionTreeClassifier\n",
        "from sklearn.cluster import KMeans\n",
        "from collections import Counter\n",
        "from sklearn import tree\n",
        "import matplotlib.pyplot as plt\n"
      ]
    },
    {
      "cell_type": "code",
      "execution_count": null,
      "metadata": {
        "id": "Ol4SwaoyqSmA"
      },
      "outputs": [],
      "source": [
        "FOLDS = 10"
      ]
    },
    {
      "cell_type": "code",
      "execution_count": null,
      "metadata": {
        "id": "U7QY8vr7qWRX"
      },
      "outputs": [],
      "source": [
        "def normalizar_dados(X):\n",
        "  x2 = X.values\n",
        "  min_max_scaler = preprocessing.MinMaxScaler()\n",
        "  x_scaled = min_max_scaler.fit_transform(x2)\n",
        "  X = pd.DataFrame(x_scaled)\n",
        "  return X\n",
        "\n",
        "def kfolds(folds, X, y):\n",
        "  kf = StratifiedKFold(n_splits = folds)\n",
        "\n",
        "  X_train = []\n",
        "  y_train = []\n",
        "\n",
        "  X_test = []\n",
        "  y_test = []\n",
        "\n",
        "  X = np.array(X)\n",
        "  y = np.array(y)\n",
        "\n",
        "  for train_index, test_index in kf.split(X,y):\n",
        "    X_train.append(X[train_index])\n",
        "    X_test.append(X[test_index])\n",
        "\n",
        "    y_train.append(y[train_index])\n",
        "    y_test.append(y[test_index])\n",
        "\n",
        "  return X_train, y_train, X_test, y_test\n",
        "\n",
        "def treinar_modelo(model,X_train,y_train,X_test,y_test):\n",
        "  model = model.fit(X_train, y_train)\n",
        "  result = model.predict(X_test)\n",
        "  acc = metrics.accuracy_score(result, y_test)\n",
        "  return acc, model\n",
        "\n",
        "def arvore(folds, X_train, y_train, X_test, y_test, criterion):\n",
        "  results = []\n",
        "  for i in range(folds):\n",
        "    model = DecisionTreeClassifier(criterion=criterion)\n",
        "    acc,model = treinar_modelo(model,X_train[i],y_train[i],X_test[i],y_test[i])\n",
        "    results.append(acc)\n",
        "  return results\n",
        "\n",
        "def knn(folds, X_train, y_train, X_test, y_test, k, metric, algorithm):\n",
        "  results = []\n",
        "  for i in range(folds):\n",
        "    model = KNeighborsClassifier(n_neighbors=k, metric=metric, algorithm=algorithm)\n",
        "    acc,model = treinar_modelo(model,X_train[i],y_train[i],X_test[i],y_test[i])\n",
        "    results.append(acc)\n",
        "  return results\n",
        "\n",
        "def mlp(folds, X_train, y_train, X_test, y_test, hidden_layer_sizes, activation,max_inter):\n",
        "  results = []\n",
        "  for i in range(folds):\n",
        "    model = MLPClassifier(hidden_layer_sizes=hidden_layer_sizes, activation=activation,max_iter=max_inter)\n",
        "    acc,model = treinar_modelo(model,X_train[i],y_train[i],X_test[i],y_test[i])\n",
        "    results.append(acc)\n",
        "  titulo =  f\"MLP {hidden_layer_sizes} {activation}\"\n",
        "  plotar_grafico_mlp(model.loss_curve_,titulo)\n",
        "  return results\n",
        "\n",
        "def plotar_grafico_mlp(list_loss_curve, title):\n",
        "  plt.figure(figsize=[8,6])\n",
        "  plt.plot(list_loss_curve , linewidth=3.0, color='purple', label='Curva de Perda')\n",
        "  plt.legend(fontsize=18)\n",
        "  plt.xlabel('Época ', fontsize=16)\n",
        "  plt.ylabel('Perda', fontsize=16)\n",
        "  plt.title(title, fontsize=16)\n",
        "  plt.show()\n",
        "  return\n",
        "\n",
        "def kmeans(folds, X_train, y_train, X_test, y_test, clusters):\n",
        "  results = []\n",
        "  for j in range(folds):\n",
        "    model = KMeans(n_clusters = clusters, n_init=10)\n",
        "    model = model.fit(X_train[j])\n",
        "\n",
        "    labels = model.labels_\n",
        "\n",
        "    map_labels = []\n",
        "\n",
        "    for i in range(clusters):\n",
        "      map_labels.append([])\n",
        "\n",
        "    new_y_train = y_train[j].tolist()\n",
        "\n",
        "    for i in range(len(y_train[j])):\n",
        "      for c in range(clusters):\n",
        "        if labels[i] == c:\n",
        "          map_labels[c].append(new_y_train[i])\n",
        "\n",
        "    mapping = {}\n",
        "\n",
        "    for i in range(clusters):\n",
        "      final = Counter(map_labels[i])\n",
        "      value = final.most_common(1)[0][0]\n",
        "      mapping[i] = value\n",
        "\n",
        "    result = model.predict(X_test[j])\n",
        "    result = [mapping[i] for i in result]\n",
        "\n",
        "    acc = metrics.accuracy_score(result, y_test[j])\n",
        "    results.append(acc)\n",
        "  return results"
      ]
    },
    {
      "cell_type": "code",
      "execution_count": null,
      "metadata": {
        "colab": {
          "base_uri": "https://localhost:8080/",
          "height": 423
        },
        "id": "30PEhUm_BNnv",
        "outputId": "21415fed-3aef-42ba-a946-9095cb0d3167"
      },
      "outputs": [
        {
          "output_type": "execute_result",
          "data": {
            "text/plain": [
              "        fLength    fWidth   fSize   fConc  fConc1     fAsym   fM3Long  \\\n",
              "0       28.7967   16.0021  2.6449  0.3918  0.1982   27.7004   22.0110   \n",
              "1       31.6036   11.7235  2.5185  0.5303  0.3773   26.2722   23.8238   \n",
              "2      162.0520  136.0310  4.0612  0.0374  0.0187  116.7410  -64.8580   \n",
              "3       23.8172    9.5728  2.3385  0.6147  0.3922   27.2107   -6.4633   \n",
              "4       75.1362   30.9205  3.1611  0.3168  0.1832   -5.5277   28.5525   \n",
              "...         ...       ...     ...     ...     ...       ...       ...   \n",
              "19015   21.3846   10.9170  2.6161  0.5857  0.3934   15.2618   11.5245   \n",
              "19016   28.9452    6.7020  2.2672  0.5351  0.2784   37.0816   13.1853   \n",
              "19017   75.4455   47.5305  3.4483  0.1417  0.0549   -9.3561   41.0562   \n",
              "19018  120.5135   76.9018  3.9939  0.0944  0.0683    5.8043  -93.5224   \n",
              "19019  187.1814   53.0014  3.2093  0.2876  0.1539 -167.3125 -168.4558   \n",
              "\n",
              "       fM3Trans   fAlpha     fDist  \n",
              "0       -8.2027  40.0920   81.8828  \n",
              "1       -9.9574   6.3609  205.2610  \n",
              "2      -45.2160  76.9600  256.7880  \n",
              "3       -7.1513  10.4490  116.7370  \n",
              "4       21.8393   4.6480  356.4620  \n",
              "...         ...      ...       ...  \n",
              "19015    2.8766   2.4229  106.8258  \n",
              "19016   -2.9632  86.7975  247.4560  \n",
              "19017   -9.4662  30.2987  256.5166  \n",
              "19018  -63.8389  84.6874  408.3166  \n",
              "19019   31.4755  52.7310  272.3174  \n",
              "\n",
              "[19020 rows x 10 columns]"
            ],
            "text/html": [
              "\n",
              "  <div id=\"df-03b05b80-00c2-479a-911a-d6138b88020a\" class=\"colab-df-container\">\n",
              "    <div>\n",
              "<style scoped>\n",
              "    .dataframe tbody tr th:only-of-type {\n",
              "        vertical-align: middle;\n",
              "    }\n",
              "\n",
              "    .dataframe tbody tr th {\n",
              "        vertical-align: top;\n",
              "    }\n",
              "\n",
              "    .dataframe thead th {\n",
              "        text-align: right;\n",
              "    }\n",
              "</style>\n",
              "<table border=\"1\" class=\"dataframe\">\n",
              "  <thead>\n",
              "    <tr style=\"text-align: right;\">\n",
              "      <th></th>\n",
              "      <th>fLength</th>\n",
              "      <th>fWidth</th>\n",
              "      <th>fSize</th>\n",
              "      <th>fConc</th>\n",
              "      <th>fConc1</th>\n",
              "      <th>fAsym</th>\n",
              "      <th>fM3Long</th>\n",
              "      <th>fM3Trans</th>\n",
              "      <th>fAlpha</th>\n",
              "      <th>fDist</th>\n",
              "    </tr>\n",
              "  </thead>\n",
              "  <tbody>\n",
              "    <tr>\n",
              "      <th>0</th>\n",
              "      <td>28.7967</td>\n",
              "      <td>16.0021</td>\n",
              "      <td>2.6449</td>\n",
              "      <td>0.3918</td>\n",
              "      <td>0.1982</td>\n",
              "      <td>27.7004</td>\n",
              "      <td>22.0110</td>\n",
              "      <td>-8.2027</td>\n",
              "      <td>40.0920</td>\n",
              "      <td>81.8828</td>\n",
              "    </tr>\n",
              "    <tr>\n",
              "      <th>1</th>\n",
              "      <td>31.6036</td>\n",
              "      <td>11.7235</td>\n",
              "      <td>2.5185</td>\n",
              "      <td>0.5303</td>\n",
              "      <td>0.3773</td>\n",
              "      <td>26.2722</td>\n",
              "      <td>23.8238</td>\n",
              "      <td>-9.9574</td>\n",
              "      <td>6.3609</td>\n",
              "      <td>205.2610</td>\n",
              "    </tr>\n",
              "    <tr>\n",
              "      <th>2</th>\n",
              "      <td>162.0520</td>\n",
              "      <td>136.0310</td>\n",
              "      <td>4.0612</td>\n",
              "      <td>0.0374</td>\n",
              "      <td>0.0187</td>\n",
              "      <td>116.7410</td>\n",
              "      <td>-64.8580</td>\n",
              "      <td>-45.2160</td>\n",
              "      <td>76.9600</td>\n",
              "      <td>256.7880</td>\n",
              "    </tr>\n",
              "    <tr>\n",
              "      <th>3</th>\n",
              "      <td>23.8172</td>\n",
              "      <td>9.5728</td>\n",
              "      <td>2.3385</td>\n",
              "      <td>0.6147</td>\n",
              "      <td>0.3922</td>\n",
              "      <td>27.2107</td>\n",
              "      <td>-6.4633</td>\n",
              "      <td>-7.1513</td>\n",
              "      <td>10.4490</td>\n",
              "      <td>116.7370</td>\n",
              "    </tr>\n",
              "    <tr>\n",
              "      <th>4</th>\n",
              "      <td>75.1362</td>\n",
              "      <td>30.9205</td>\n",
              "      <td>3.1611</td>\n",
              "      <td>0.3168</td>\n",
              "      <td>0.1832</td>\n",
              "      <td>-5.5277</td>\n",
              "      <td>28.5525</td>\n",
              "      <td>21.8393</td>\n",
              "      <td>4.6480</td>\n",
              "      <td>356.4620</td>\n",
              "    </tr>\n",
              "    <tr>\n",
              "      <th>...</th>\n",
              "      <td>...</td>\n",
              "      <td>...</td>\n",
              "      <td>...</td>\n",
              "      <td>...</td>\n",
              "      <td>...</td>\n",
              "      <td>...</td>\n",
              "      <td>...</td>\n",
              "      <td>...</td>\n",
              "      <td>...</td>\n",
              "      <td>...</td>\n",
              "    </tr>\n",
              "    <tr>\n",
              "      <th>19015</th>\n",
              "      <td>21.3846</td>\n",
              "      <td>10.9170</td>\n",
              "      <td>2.6161</td>\n",
              "      <td>0.5857</td>\n",
              "      <td>0.3934</td>\n",
              "      <td>15.2618</td>\n",
              "      <td>11.5245</td>\n",
              "      <td>2.8766</td>\n",
              "      <td>2.4229</td>\n",
              "      <td>106.8258</td>\n",
              "    </tr>\n",
              "    <tr>\n",
              "      <th>19016</th>\n",
              "      <td>28.9452</td>\n",
              "      <td>6.7020</td>\n",
              "      <td>2.2672</td>\n",
              "      <td>0.5351</td>\n",
              "      <td>0.2784</td>\n",
              "      <td>37.0816</td>\n",
              "      <td>13.1853</td>\n",
              "      <td>-2.9632</td>\n",
              "      <td>86.7975</td>\n",
              "      <td>247.4560</td>\n",
              "    </tr>\n",
              "    <tr>\n",
              "      <th>19017</th>\n",
              "      <td>75.4455</td>\n",
              "      <td>47.5305</td>\n",
              "      <td>3.4483</td>\n",
              "      <td>0.1417</td>\n",
              "      <td>0.0549</td>\n",
              "      <td>-9.3561</td>\n",
              "      <td>41.0562</td>\n",
              "      <td>-9.4662</td>\n",
              "      <td>30.2987</td>\n",
              "      <td>256.5166</td>\n",
              "    </tr>\n",
              "    <tr>\n",
              "      <th>19018</th>\n",
              "      <td>120.5135</td>\n",
              "      <td>76.9018</td>\n",
              "      <td>3.9939</td>\n",
              "      <td>0.0944</td>\n",
              "      <td>0.0683</td>\n",
              "      <td>5.8043</td>\n",
              "      <td>-93.5224</td>\n",
              "      <td>-63.8389</td>\n",
              "      <td>84.6874</td>\n",
              "      <td>408.3166</td>\n",
              "    </tr>\n",
              "    <tr>\n",
              "      <th>19019</th>\n",
              "      <td>187.1814</td>\n",
              "      <td>53.0014</td>\n",
              "      <td>3.2093</td>\n",
              "      <td>0.2876</td>\n",
              "      <td>0.1539</td>\n",
              "      <td>-167.3125</td>\n",
              "      <td>-168.4558</td>\n",
              "      <td>31.4755</td>\n",
              "      <td>52.7310</td>\n",
              "      <td>272.3174</td>\n",
              "    </tr>\n",
              "  </tbody>\n",
              "</table>\n",
              "<p>19020 rows × 10 columns</p>\n",
              "</div>\n",
              "    <div class=\"colab-df-buttons\">\n",
              "\n",
              "  <div class=\"colab-df-container\">\n",
              "    <button class=\"colab-df-convert\" onclick=\"convertToInteractive('df-03b05b80-00c2-479a-911a-d6138b88020a')\"\n",
              "            title=\"Convert this dataframe to an interactive table.\"\n",
              "            style=\"display:none;\">\n",
              "\n",
              "  <svg xmlns=\"http://www.w3.org/2000/svg\" height=\"24px\" viewBox=\"0 -960 960 960\">\n",
              "    <path d=\"M120-120v-720h720v720H120Zm60-500h600v-160H180v160Zm220 220h160v-160H400v160Zm0 220h160v-160H400v160ZM180-400h160v-160H180v160Zm440 0h160v-160H620v160ZM180-180h160v-160H180v160Zm440 0h160v-160H620v160Z\"/>\n",
              "  </svg>\n",
              "    </button>\n",
              "\n",
              "  <style>\n",
              "    .colab-df-container {\n",
              "      display:flex;\n",
              "      gap: 12px;\n",
              "    }\n",
              "\n",
              "    .colab-df-convert {\n",
              "      background-color: #E8F0FE;\n",
              "      border: none;\n",
              "      border-radius: 50%;\n",
              "      cursor: pointer;\n",
              "      display: none;\n",
              "      fill: #1967D2;\n",
              "      height: 32px;\n",
              "      padding: 0 0 0 0;\n",
              "      width: 32px;\n",
              "    }\n",
              "\n",
              "    .colab-df-convert:hover {\n",
              "      background-color: #E2EBFA;\n",
              "      box-shadow: 0px 1px 2px rgba(60, 64, 67, 0.3), 0px 1px 3px 1px rgba(60, 64, 67, 0.15);\n",
              "      fill: #174EA6;\n",
              "    }\n",
              "\n",
              "    .colab-df-buttons div {\n",
              "      margin-bottom: 4px;\n",
              "    }\n",
              "\n",
              "    [theme=dark] .colab-df-convert {\n",
              "      background-color: #3B4455;\n",
              "      fill: #D2E3FC;\n",
              "    }\n",
              "\n",
              "    [theme=dark] .colab-df-convert:hover {\n",
              "      background-color: #434B5C;\n",
              "      box-shadow: 0px 1px 3px 1px rgba(0, 0, 0, 0.15);\n",
              "      filter: drop-shadow(0px 1px 2px rgba(0, 0, 0, 0.3));\n",
              "      fill: #FFFFFF;\n",
              "    }\n",
              "  </style>\n",
              "\n",
              "    <script>\n",
              "      const buttonEl =\n",
              "        document.querySelector('#df-03b05b80-00c2-479a-911a-d6138b88020a button.colab-df-convert');\n",
              "      buttonEl.style.display =\n",
              "        google.colab.kernel.accessAllowed ? 'block' : 'none';\n",
              "\n",
              "      async function convertToInteractive(key) {\n",
              "        const element = document.querySelector('#df-03b05b80-00c2-479a-911a-d6138b88020a');\n",
              "        const dataTable =\n",
              "          await google.colab.kernel.invokeFunction('convertToInteractive',\n",
              "                                                    [key], {});\n",
              "        if (!dataTable) return;\n",
              "\n",
              "        const docLinkHtml = 'Like what you see? Visit the ' +\n",
              "          '<a target=\"_blank\" href=https://colab.research.google.com/notebooks/data_table.ipynb>data table notebook</a>'\n",
              "          + ' to learn more about interactive tables.';\n",
              "        element.innerHTML = '';\n",
              "        dataTable['output_type'] = 'display_data';\n",
              "        await google.colab.output.renderOutput(dataTable, element);\n",
              "        const docLink = document.createElement('div');\n",
              "        docLink.innerHTML = docLinkHtml;\n",
              "        element.appendChild(docLink);\n",
              "      }\n",
              "    </script>\n",
              "  </div>\n",
              "\n",
              "\n",
              "<div id=\"df-2b5d983b-4519-4bd0-9c21-c5e305ff5974\">\n",
              "  <button class=\"colab-df-quickchart\" onclick=\"quickchart('df-2b5d983b-4519-4bd0-9c21-c5e305ff5974')\"\n",
              "            title=\"Suggest charts\"\n",
              "            style=\"display:none;\">\n",
              "\n",
              "<svg xmlns=\"http://www.w3.org/2000/svg\" height=\"24px\"viewBox=\"0 0 24 24\"\n",
              "     width=\"24px\">\n",
              "    <g>\n",
              "        <path d=\"M19 3H5c-1.1 0-2 .9-2 2v14c0 1.1.9 2 2 2h14c1.1 0 2-.9 2-2V5c0-1.1-.9-2-2-2zM9 17H7v-7h2v7zm4 0h-2V7h2v10zm4 0h-2v-4h2v4z\"/>\n",
              "    </g>\n",
              "</svg>\n",
              "  </button>\n",
              "\n",
              "<style>\n",
              "  .colab-df-quickchart {\n",
              "      --bg-color: #E8F0FE;\n",
              "      --fill-color: #1967D2;\n",
              "      --hover-bg-color: #E2EBFA;\n",
              "      --hover-fill-color: #174EA6;\n",
              "      --disabled-fill-color: #AAA;\n",
              "      --disabled-bg-color: #DDD;\n",
              "  }\n",
              "\n",
              "  [theme=dark] .colab-df-quickchart {\n",
              "      --bg-color: #3B4455;\n",
              "      --fill-color: #D2E3FC;\n",
              "      --hover-bg-color: #434B5C;\n",
              "      --hover-fill-color: #FFFFFF;\n",
              "      --disabled-bg-color: #3B4455;\n",
              "      --disabled-fill-color: #666;\n",
              "  }\n",
              "\n",
              "  .colab-df-quickchart {\n",
              "    background-color: var(--bg-color);\n",
              "    border: none;\n",
              "    border-radius: 50%;\n",
              "    cursor: pointer;\n",
              "    display: none;\n",
              "    fill: var(--fill-color);\n",
              "    height: 32px;\n",
              "    padding: 0;\n",
              "    width: 32px;\n",
              "  }\n",
              "\n",
              "  .colab-df-quickchart:hover {\n",
              "    background-color: var(--hover-bg-color);\n",
              "    box-shadow: 0 1px 2px rgba(60, 64, 67, 0.3), 0 1px 3px 1px rgba(60, 64, 67, 0.15);\n",
              "    fill: var(--button-hover-fill-color);\n",
              "  }\n",
              "\n",
              "  .colab-df-quickchart-complete:disabled,\n",
              "  .colab-df-quickchart-complete:disabled:hover {\n",
              "    background-color: var(--disabled-bg-color);\n",
              "    fill: var(--disabled-fill-color);\n",
              "    box-shadow: none;\n",
              "  }\n",
              "\n",
              "  .colab-df-spinner {\n",
              "    border: 2px solid var(--fill-color);\n",
              "    border-color: transparent;\n",
              "    border-bottom-color: var(--fill-color);\n",
              "    animation:\n",
              "      spin 1s steps(1) infinite;\n",
              "  }\n",
              "\n",
              "  @keyframes spin {\n",
              "    0% {\n",
              "      border-color: transparent;\n",
              "      border-bottom-color: var(--fill-color);\n",
              "      border-left-color: var(--fill-color);\n",
              "    }\n",
              "    20% {\n",
              "      border-color: transparent;\n",
              "      border-left-color: var(--fill-color);\n",
              "      border-top-color: var(--fill-color);\n",
              "    }\n",
              "    30% {\n",
              "      border-color: transparent;\n",
              "      border-left-color: var(--fill-color);\n",
              "      border-top-color: var(--fill-color);\n",
              "      border-right-color: var(--fill-color);\n",
              "    }\n",
              "    40% {\n",
              "      border-color: transparent;\n",
              "      border-right-color: var(--fill-color);\n",
              "      border-top-color: var(--fill-color);\n",
              "    }\n",
              "    60% {\n",
              "      border-color: transparent;\n",
              "      border-right-color: var(--fill-color);\n",
              "    }\n",
              "    80% {\n",
              "      border-color: transparent;\n",
              "      border-right-color: var(--fill-color);\n",
              "      border-bottom-color: var(--fill-color);\n",
              "    }\n",
              "    90% {\n",
              "      border-color: transparent;\n",
              "      border-bottom-color: var(--fill-color);\n",
              "    }\n",
              "  }\n",
              "</style>\n",
              "\n",
              "  <script>\n",
              "    async function quickchart(key) {\n",
              "      const quickchartButtonEl =\n",
              "        document.querySelector('#' + key + ' button');\n",
              "      quickchartButtonEl.disabled = true;  // To prevent multiple clicks.\n",
              "      quickchartButtonEl.classList.add('colab-df-spinner');\n",
              "      try {\n",
              "        const charts = await google.colab.kernel.invokeFunction(\n",
              "            'suggestCharts', [key], {});\n",
              "      } catch (error) {\n",
              "        console.error('Error during call to suggestCharts:', error);\n",
              "      }\n",
              "      quickchartButtonEl.classList.remove('colab-df-spinner');\n",
              "      quickchartButtonEl.classList.add('colab-df-quickchart-complete');\n",
              "    }\n",
              "    (() => {\n",
              "      let quickchartButtonEl =\n",
              "        document.querySelector('#df-2b5d983b-4519-4bd0-9c21-c5e305ff5974 button');\n",
              "      quickchartButtonEl.style.display =\n",
              "        google.colab.kernel.accessAllowed ? 'block' : 'none';\n",
              "    })();\n",
              "  </script>\n",
              "</div>\n",
              "\n",
              "  <div id=\"id_14dbfd1a-2080-4068-8c19-6553a22ac25a\">\n",
              "    <style>\n",
              "      .colab-df-generate {\n",
              "        background-color: #E8F0FE;\n",
              "        border: none;\n",
              "        border-radius: 50%;\n",
              "        cursor: pointer;\n",
              "        display: none;\n",
              "        fill: #1967D2;\n",
              "        height: 32px;\n",
              "        padding: 0 0 0 0;\n",
              "        width: 32px;\n",
              "      }\n",
              "\n",
              "      .colab-df-generate:hover {\n",
              "        background-color: #E2EBFA;\n",
              "        box-shadow: 0px 1px 2px rgba(60, 64, 67, 0.3), 0px 1px 3px 1px rgba(60, 64, 67, 0.15);\n",
              "        fill: #174EA6;\n",
              "      }\n",
              "\n",
              "      [theme=dark] .colab-df-generate {\n",
              "        background-color: #3B4455;\n",
              "        fill: #D2E3FC;\n",
              "      }\n",
              "\n",
              "      [theme=dark] .colab-df-generate:hover {\n",
              "        background-color: #434B5C;\n",
              "        box-shadow: 0px 1px 3px 1px rgba(0, 0, 0, 0.15);\n",
              "        filter: drop-shadow(0px 1px 2px rgba(0, 0, 0, 0.3));\n",
              "        fill: #FFFFFF;\n",
              "      }\n",
              "    </style>\n",
              "    <button class=\"colab-df-generate\" onclick=\"generateWithVariable('X')\"\n",
              "            title=\"Generate code using this dataframe.\"\n",
              "            style=\"display:none;\">\n",
              "\n",
              "  <svg xmlns=\"http://www.w3.org/2000/svg\" height=\"24px\"viewBox=\"0 0 24 24\"\n",
              "       width=\"24px\">\n",
              "    <path d=\"M7,19H8.4L18.45,9,17,7.55,7,17.6ZM5,21V16.75L18.45,3.32a2,2,0,0,1,2.83,0l1.4,1.43a1.91,1.91,0,0,1,.58,1.4,1.91,1.91,0,0,1-.58,1.4L9.25,21ZM18.45,9,17,7.55Zm-12,3A5.31,5.31,0,0,0,4.9,8.1,5.31,5.31,0,0,0,1,6.5,5.31,5.31,0,0,0,4.9,4.9,5.31,5.31,0,0,0,6.5,1,5.31,5.31,0,0,0,8.1,4.9,5.31,5.31,0,0,0,12,6.5,5.46,5.46,0,0,0,6.5,12Z\"/>\n",
              "  </svg>\n",
              "    </button>\n",
              "    <script>\n",
              "      (() => {\n",
              "      const buttonEl =\n",
              "        document.querySelector('#id_14dbfd1a-2080-4068-8c19-6553a22ac25a button.colab-df-generate');\n",
              "      buttonEl.style.display =\n",
              "        google.colab.kernel.accessAllowed ? 'block' : 'none';\n",
              "\n",
              "      buttonEl.onclick = () => {\n",
              "        google.colab.notebook.generateWithVariable('X');\n",
              "      }\n",
              "      })();\n",
              "    </script>\n",
              "  </div>\n",
              "\n",
              "    </div>\n",
              "  </div>\n"
            ],
            "application/vnd.google.colaboratory.intrinsic+json": {
              "type": "dataframe",
              "variable_name": "X",
              "summary": "{\n  \"name\": \"X\",\n  \"rows\": 19020,\n  \"fields\": [\n    {\n      \"column\": \"fLength\",\n      \"properties\": {\n        \"dtype\": \"number\",\n        \"std\": 42.364854942802815,\n        \"min\": 4.2835,\n        \"max\": 334.177,\n        \"num_unique_values\": 18643,\n        \"samples\": [\n          29.3302,\n          61.2341,\n          40.7017\n        ],\n        \"semantic_type\": \"\",\n        \"description\": \"\"\n      }\n    },\n    {\n      \"column\": \"fWidth\",\n      \"properties\": {\n        \"dtype\": \"number\",\n        \"std\": 18.346056295681635,\n        \"min\": 0.0,\n        \"max\": 256.382,\n        \"num_unique_values\": 18200,\n        \"samples\": [\n          10.5168,\n          22.4704,\n          18.0348\n        ],\n        \"semantic_type\": \"\",\n        \"description\": \"\"\n      }\n    },\n    {\n      \"column\": \"fSize\",\n      \"properties\": {\n        \"dtype\": \"number\",\n        \"std\": 0.4725986486893089,\n        \"min\": 1.9413,\n        \"max\": 5.3233,\n        \"num_unique_values\": 7228,\n        \"samples\": [\n          2.8136,\n          2.5121,\n          3.3903\n        ],\n        \"semantic_type\": \"\",\n        \"description\": \"\"\n      }\n    },\n    {\n      \"column\": \"fConc\",\n      \"properties\": {\n        \"dtype\": \"number\",\n        \"std\": 0.18281314722123734,\n        \"min\": 0.0131,\n        \"max\": 0.893,\n        \"num_unique_values\": 6410,\n        \"samples\": [\n          0.0997,\n          0.1842,\n          0.131\n        ],\n        \"semantic_type\": \"\",\n        \"description\": \"\"\n      }\n    },\n    {\n      \"column\": \"fConc1\",\n      \"properties\": {\n        \"dtype\": \"number\",\n        \"std\": 0.11051079890195728,\n        \"min\": 0.0003,\n        \"max\": 0.6752,\n        \"num_unique_values\": 4421,\n        \"samples\": [\n          0.4651,\n          0.0325,\n          0.1752\n        ],\n        \"semantic_type\": \"\",\n        \"description\": \"\"\n      }\n    },\n    {\n      \"column\": \"fAsym\",\n      \"properties\": {\n        \"dtype\": \"number\",\n        \"std\": 59.20606198471514,\n        \"min\": -457.9161,\n        \"max\": 575.2407,\n        \"num_unique_values\": 18704,\n        \"samples\": [\n          -59.0369,\n          31.8588,\n          32.1961\n        ],\n        \"semantic_type\": \"\",\n        \"description\": \"\"\n      }\n    },\n    {\n      \"column\": \"fM3Long\",\n      \"properties\": {\n        \"dtype\": \"number\",\n        \"std\": 51.00011801388597,\n        \"min\": -331.78,\n        \"max\": 238.321,\n        \"num_unique_values\": 18693,\n        \"samples\": [\n          -12.7648,\n          18.1689,\n          18.9666\n        ],\n        \"semantic_type\": \"\",\n        \"description\": \"\"\n      }\n    },\n    {\n      \"column\": \"fM3Trans\",\n      \"properties\": {\n        \"dtype\": \"number\",\n        \"std\": 20.827438947228195,\n        \"min\": -205.8947,\n        \"max\": 179.851,\n        \"num_unique_values\": 18390,\n        \"samples\": [\n          -39.2878,\n          -9.7515,\n          -17.2016\n        ],\n        \"semantic_type\": \"\",\n        \"description\": \"\"\n      }\n    },\n    {\n      \"column\": \"fAlpha\",\n      \"properties\": {\n        \"dtype\": \"number\",\n        \"std\": 26.103620510358212,\n        \"min\": 0.0,\n        \"max\": 90.0,\n        \"num_unique_values\": 17981,\n        \"samples\": [\n          8.3289,\n          5.86,\n          1.2801\n        ],\n        \"semantic_type\": \"\",\n        \"description\": \"\"\n      }\n    },\n    {\n      \"column\": \"fDist\",\n      \"properties\": {\n        \"dtype\": \"number\",\n        \"std\": 74.73178696313774,\n        \"min\": 1.2826,\n        \"max\": 495.561,\n        \"num_unique_values\": 18437,\n        \"samples\": [\n          290.884,\n          199.29,\n          171.345\n        ],\n        \"semantic_type\": \"\",\n        \"description\": \"\"\n      }\n    }\n  ]\n}"
            }
          },
          "metadata": {},
          "execution_count": 151
        }
      ],
      "source": [
        "magic = fetch_ucirepo(id=159)\n",
        "\n",
        "X = magic.data.features\n",
        "y = magic.data.targets\n",
        "y = np.reshape(y, (-1,))\n",
        "X\n"
      ]
    },
    {
      "cell_type": "markdown",
      "source": [
        "###PRÉ-PROCESSAMENTO"
      ],
      "metadata": {
        "id": "sAcN-VWx1c8y"
      }
    },
    {
      "cell_type": "code",
      "execution_count": null,
      "metadata": {
        "colab": {
          "base_uri": "https://localhost:8080/",
          "height": 423
        },
        "id": "XUzv1GdcqoPe",
        "outputId": "3734b171-009a-4fad-cfd5-f3ddc2525be9"
      },
      "outputs": [
        {
          "output_type": "execute_result",
          "data": {
            "text/plain": [
              "              0         1         2         3         4         5         6  \\\n",
              "0      0.074306  0.062415  0.208043  0.430390  0.293229  0.470032  0.620576   \n",
              "1      0.082815  0.045727  0.170668  0.587794  0.558601  0.468649  0.623756   \n",
              "2      0.478241  0.530579  0.626818  0.027617  0.027263  0.556215  0.468201   \n",
              "3      0.059212  0.037338  0.117445  0.683714  0.580679  0.469558  0.570630   \n",
              "4      0.214774  0.120603  0.360674  0.345153  0.271003  0.437870  0.632050   \n",
              "...         ...       ...       ...       ...       ...       ...       ...   \n",
              "19015  0.051838  0.042581  0.199527  0.650756  0.582457  0.457992  0.602182   \n",
              "19016  0.074757  0.026141  0.096363  0.593249  0.412061  0.479112  0.605095   \n",
              "19017  0.215712  0.185389  0.445594  0.146153  0.080901  0.434164  0.653983   \n",
              "19018  0.352326  0.299950  0.606919  0.092397  0.100756  0.448838  0.417922   \n",
              "19019  0.554415  0.206728  0.374926  0.311967  0.227589  0.281277  0.286483   \n",
              "\n",
              "              7         8         9  \n",
              "0      0.512493  0.445467  0.163066  \n",
              "1      0.507944  0.070677  0.412679  \n",
              "2      0.416540  0.855111  0.516926  \n",
              "3      0.515219  0.116100  0.233582  \n",
              "4      0.590373  0.051644  0.718582  \n",
              "...         ...       ...       ...  \n",
              "19015  0.541215  0.026921  0.213530  \n",
              "19016  0.526076  0.964417  0.498046  \n",
              "19017  0.509218  0.336652  0.516377  \n",
              "19018  0.368263  0.940971  0.823491  \n",
              "19019  0.615354  0.585900  0.548344  \n",
              "\n",
              "[19020 rows x 10 columns]"
            ],
            "text/html": [
              "\n",
              "  <div id=\"df-d4a37482-e8a5-4b77-b9f3-ba1ec70ee124\" class=\"colab-df-container\">\n",
              "    <div>\n",
              "<style scoped>\n",
              "    .dataframe tbody tr th:only-of-type {\n",
              "        vertical-align: middle;\n",
              "    }\n",
              "\n",
              "    .dataframe tbody tr th {\n",
              "        vertical-align: top;\n",
              "    }\n",
              "\n",
              "    .dataframe thead th {\n",
              "        text-align: right;\n",
              "    }\n",
              "</style>\n",
              "<table border=\"1\" class=\"dataframe\">\n",
              "  <thead>\n",
              "    <tr style=\"text-align: right;\">\n",
              "      <th></th>\n",
              "      <th>0</th>\n",
              "      <th>1</th>\n",
              "      <th>2</th>\n",
              "      <th>3</th>\n",
              "      <th>4</th>\n",
              "      <th>5</th>\n",
              "      <th>6</th>\n",
              "      <th>7</th>\n",
              "      <th>8</th>\n",
              "      <th>9</th>\n",
              "    </tr>\n",
              "  </thead>\n",
              "  <tbody>\n",
              "    <tr>\n",
              "      <th>0</th>\n",
              "      <td>0.074306</td>\n",
              "      <td>0.062415</td>\n",
              "      <td>0.208043</td>\n",
              "      <td>0.430390</td>\n",
              "      <td>0.293229</td>\n",
              "      <td>0.470032</td>\n",
              "      <td>0.620576</td>\n",
              "      <td>0.512493</td>\n",
              "      <td>0.445467</td>\n",
              "      <td>0.163066</td>\n",
              "    </tr>\n",
              "    <tr>\n",
              "      <th>1</th>\n",
              "      <td>0.082815</td>\n",
              "      <td>0.045727</td>\n",
              "      <td>0.170668</td>\n",
              "      <td>0.587794</td>\n",
              "      <td>0.558601</td>\n",
              "      <td>0.468649</td>\n",
              "      <td>0.623756</td>\n",
              "      <td>0.507944</td>\n",
              "      <td>0.070677</td>\n",
              "      <td>0.412679</td>\n",
              "    </tr>\n",
              "    <tr>\n",
              "      <th>2</th>\n",
              "      <td>0.478241</td>\n",
              "      <td>0.530579</td>\n",
              "      <td>0.626818</td>\n",
              "      <td>0.027617</td>\n",
              "      <td>0.027263</td>\n",
              "      <td>0.556215</td>\n",
              "      <td>0.468201</td>\n",
              "      <td>0.416540</td>\n",
              "      <td>0.855111</td>\n",
              "      <td>0.516926</td>\n",
              "    </tr>\n",
              "    <tr>\n",
              "      <th>3</th>\n",
              "      <td>0.059212</td>\n",
              "      <td>0.037338</td>\n",
              "      <td>0.117445</td>\n",
              "      <td>0.683714</td>\n",
              "      <td>0.580679</td>\n",
              "      <td>0.469558</td>\n",
              "      <td>0.570630</td>\n",
              "      <td>0.515219</td>\n",
              "      <td>0.116100</td>\n",
              "      <td>0.233582</td>\n",
              "    </tr>\n",
              "    <tr>\n",
              "      <th>4</th>\n",
              "      <td>0.214774</td>\n",
              "      <td>0.120603</td>\n",
              "      <td>0.360674</td>\n",
              "      <td>0.345153</td>\n",
              "      <td>0.271003</td>\n",
              "      <td>0.437870</td>\n",
              "      <td>0.632050</td>\n",
              "      <td>0.590373</td>\n",
              "      <td>0.051644</td>\n",
              "      <td>0.718582</td>\n",
              "    </tr>\n",
              "    <tr>\n",
              "      <th>...</th>\n",
              "      <td>...</td>\n",
              "      <td>...</td>\n",
              "      <td>...</td>\n",
              "      <td>...</td>\n",
              "      <td>...</td>\n",
              "      <td>...</td>\n",
              "      <td>...</td>\n",
              "      <td>...</td>\n",
              "      <td>...</td>\n",
              "      <td>...</td>\n",
              "    </tr>\n",
              "    <tr>\n",
              "      <th>19015</th>\n",
              "      <td>0.051838</td>\n",
              "      <td>0.042581</td>\n",
              "      <td>0.199527</td>\n",
              "      <td>0.650756</td>\n",
              "      <td>0.582457</td>\n",
              "      <td>0.457992</td>\n",
              "      <td>0.602182</td>\n",
              "      <td>0.541215</td>\n",
              "      <td>0.026921</td>\n",
              "      <td>0.213530</td>\n",
              "    </tr>\n",
              "    <tr>\n",
              "      <th>19016</th>\n",
              "      <td>0.074757</td>\n",
              "      <td>0.026141</td>\n",
              "      <td>0.096363</td>\n",
              "      <td>0.593249</td>\n",
              "      <td>0.412061</td>\n",
              "      <td>0.479112</td>\n",
              "      <td>0.605095</td>\n",
              "      <td>0.526076</td>\n",
              "      <td>0.964417</td>\n",
              "      <td>0.498046</td>\n",
              "    </tr>\n",
              "    <tr>\n",
              "      <th>19017</th>\n",
              "      <td>0.215712</td>\n",
              "      <td>0.185389</td>\n",
              "      <td>0.445594</td>\n",
              "      <td>0.146153</td>\n",
              "      <td>0.080901</td>\n",
              "      <td>0.434164</td>\n",
              "      <td>0.653983</td>\n",
              "      <td>0.509218</td>\n",
              "      <td>0.336652</td>\n",
              "      <td>0.516377</td>\n",
              "    </tr>\n",
              "    <tr>\n",
              "      <th>19018</th>\n",
              "      <td>0.352326</td>\n",
              "      <td>0.299950</td>\n",
              "      <td>0.606919</td>\n",
              "      <td>0.092397</td>\n",
              "      <td>0.100756</td>\n",
              "      <td>0.448838</td>\n",
              "      <td>0.417922</td>\n",
              "      <td>0.368263</td>\n",
              "      <td>0.940971</td>\n",
              "      <td>0.823491</td>\n",
              "    </tr>\n",
              "    <tr>\n",
              "      <th>19019</th>\n",
              "      <td>0.554415</td>\n",
              "      <td>0.206728</td>\n",
              "      <td>0.374926</td>\n",
              "      <td>0.311967</td>\n",
              "      <td>0.227589</td>\n",
              "      <td>0.281277</td>\n",
              "      <td>0.286483</td>\n",
              "      <td>0.615354</td>\n",
              "      <td>0.585900</td>\n",
              "      <td>0.548344</td>\n",
              "    </tr>\n",
              "  </tbody>\n",
              "</table>\n",
              "<p>19020 rows × 10 columns</p>\n",
              "</div>\n",
              "    <div class=\"colab-df-buttons\">\n",
              "\n",
              "  <div class=\"colab-df-container\">\n",
              "    <button class=\"colab-df-convert\" onclick=\"convertToInteractive('df-d4a37482-e8a5-4b77-b9f3-ba1ec70ee124')\"\n",
              "            title=\"Convert this dataframe to an interactive table.\"\n",
              "            style=\"display:none;\">\n",
              "\n",
              "  <svg xmlns=\"http://www.w3.org/2000/svg\" height=\"24px\" viewBox=\"0 -960 960 960\">\n",
              "    <path d=\"M120-120v-720h720v720H120Zm60-500h600v-160H180v160Zm220 220h160v-160H400v160Zm0 220h160v-160H400v160ZM180-400h160v-160H180v160Zm440 0h160v-160H620v160ZM180-180h160v-160H180v160Zm440 0h160v-160H620v160Z\"/>\n",
              "  </svg>\n",
              "    </button>\n",
              "\n",
              "  <style>\n",
              "    .colab-df-container {\n",
              "      display:flex;\n",
              "      gap: 12px;\n",
              "    }\n",
              "\n",
              "    .colab-df-convert {\n",
              "      background-color: #E8F0FE;\n",
              "      border: none;\n",
              "      border-radius: 50%;\n",
              "      cursor: pointer;\n",
              "      display: none;\n",
              "      fill: #1967D2;\n",
              "      height: 32px;\n",
              "      padding: 0 0 0 0;\n",
              "      width: 32px;\n",
              "    }\n",
              "\n",
              "    .colab-df-convert:hover {\n",
              "      background-color: #E2EBFA;\n",
              "      box-shadow: 0px 1px 2px rgba(60, 64, 67, 0.3), 0px 1px 3px 1px rgba(60, 64, 67, 0.15);\n",
              "      fill: #174EA6;\n",
              "    }\n",
              "\n",
              "    .colab-df-buttons div {\n",
              "      margin-bottom: 4px;\n",
              "    }\n",
              "\n",
              "    [theme=dark] .colab-df-convert {\n",
              "      background-color: #3B4455;\n",
              "      fill: #D2E3FC;\n",
              "    }\n",
              "\n",
              "    [theme=dark] .colab-df-convert:hover {\n",
              "      background-color: #434B5C;\n",
              "      box-shadow: 0px 1px 3px 1px rgba(0, 0, 0, 0.15);\n",
              "      filter: drop-shadow(0px 1px 2px rgba(0, 0, 0, 0.3));\n",
              "      fill: #FFFFFF;\n",
              "    }\n",
              "  </style>\n",
              "\n",
              "    <script>\n",
              "      const buttonEl =\n",
              "        document.querySelector('#df-d4a37482-e8a5-4b77-b9f3-ba1ec70ee124 button.colab-df-convert');\n",
              "      buttonEl.style.display =\n",
              "        google.colab.kernel.accessAllowed ? 'block' : 'none';\n",
              "\n",
              "      async function convertToInteractive(key) {\n",
              "        const element = document.querySelector('#df-d4a37482-e8a5-4b77-b9f3-ba1ec70ee124');\n",
              "        const dataTable =\n",
              "          await google.colab.kernel.invokeFunction('convertToInteractive',\n",
              "                                                    [key], {});\n",
              "        if (!dataTable) return;\n",
              "\n",
              "        const docLinkHtml = 'Like what you see? Visit the ' +\n",
              "          '<a target=\"_blank\" href=https://colab.research.google.com/notebooks/data_table.ipynb>data table notebook</a>'\n",
              "          + ' to learn more about interactive tables.';\n",
              "        element.innerHTML = '';\n",
              "        dataTable['output_type'] = 'display_data';\n",
              "        await google.colab.output.renderOutput(dataTable, element);\n",
              "        const docLink = document.createElement('div');\n",
              "        docLink.innerHTML = docLinkHtml;\n",
              "        element.appendChild(docLink);\n",
              "      }\n",
              "    </script>\n",
              "  </div>\n",
              "\n",
              "\n",
              "<div id=\"df-e1ad0dd4-868b-4505-a83a-04a6d8779f85\">\n",
              "  <button class=\"colab-df-quickchart\" onclick=\"quickchart('df-e1ad0dd4-868b-4505-a83a-04a6d8779f85')\"\n",
              "            title=\"Suggest charts\"\n",
              "            style=\"display:none;\">\n",
              "\n",
              "<svg xmlns=\"http://www.w3.org/2000/svg\" height=\"24px\"viewBox=\"0 0 24 24\"\n",
              "     width=\"24px\">\n",
              "    <g>\n",
              "        <path d=\"M19 3H5c-1.1 0-2 .9-2 2v14c0 1.1.9 2 2 2h14c1.1 0 2-.9 2-2V5c0-1.1-.9-2-2-2zM9 17H7v-7h2v7zm4 0h-2V7h2v10zm4 0h-2v-4h2v4z\"/>\n",
              "    </g>\n",
              "</svg>\n",
              "  </button>\n",
              "\n",
              "<style>\n",
              "  .colab-df-quickchart {\n",
              "      --bg-color: #E8F0FE;\n",
              "      --fill-color: #1967D2;\n",
              "      --hover-bg-color: #E2EBFA;\n",
              "      --hover-fill-color: #174EA6;\n",
              "      --disabled-fill-color: #AAA;\n",
              "      --disabled-bg-color: #DDD;\n",
              "  }\n",
              "\n",
              "  [theme=dark] .colab-df-quickchart {\n",
              "      --bg-color: #3B4455;\n",
              "      --fill-color: #D2E3FC;\n",
              "      --hover-bg-color: #434B5C;\n",
              "      --hover-fill-color: #FFFFFF;\n",
              "      --disabled-bg-color: #3B4455;\n",
              "      --disabled-fill-color: #666;\n",
              "  }\n",
              "\n",
              "  .colab-df-quickchart {\n",
              "    background-color: var(--bg-color);\n",
              "    border: none;\n",
              "    border-radius: 50%;\n",
              "    cursor: pointer;\n",
              "    display: none;\n",
              "    fill: var(--fill-color);\n",
              "    height: 32px;\n",
              "    padding: 0;\n",
              "    width: 32px;\n",
              "  }\n",
              "\n",
              "  .colab-df-quickchart:hover {\n",
              "    background-color: var(--hover-bg-color);\n",
              "    box-shadow: 0 1px 2px rgba(60, 64, 67, 0.3), 0 1px 3px 1px rgba(60, 64, 67, 0.15);\n",
              "    fill: var(--button-hover-fill-color);\n",
              "  }\n",
              "\n",
              "  .colab-df-quickchart-complete:disabled,\n",
              "  .colab-df-quickchart-complete:disabled:hover {\n",
              "    background-color: var(--disabled-bg-color);\n",
              "    fill: var(--disabled-fill-color);\n",
              "    box-shadow: none;\n",
              "  }\n",
              "\n",
              "  .colab-df-spinner {\n",
              "    border: 2px solid var(--fill-color);\n",
              "    border-color: transparent;\n",
              "    border-bottom-color: var(--fill-color);\n",
              "    animation:\n",
              "      spin 1s steps(1) infinite;\n",
              "  }\n",
              "\n",
              "  @keyframes spin {\n",
              "    0% {\n",
              "      border-color: transparent;\n",
              "      border-bottom-color: var(--fill-color);\n",
              "      border-left-color: var(--fill-color);\n",
              "    }\n",
              "    20% {\n",
              "      border-color: transparent;\n",
              "      border-left-color: var(--fill-color);\n",
              "      border-top-color: var(--fill-color);\n",
              "    }\n",
              "    30% {\n",
              "      border-color: transparent;\n",
              "      border-left-color: var(--fill-color);\n",
              "      border-top-color: var(--fill-color);\n",
              "      border-right-color: var(--fill-color);\n",
              "    }\n",
              "    40% {\n",
              "      border-color: transparent;\n",
              "      border-right-color: var(--fill-color);\n",
              "      border-top-color: var(--fill-color);\n",
              "    }\n",
              "    60% {\n",
              "      border-color: transparent;\n",
              "      border-right-color: var(--fill-color);\n",
              "    }\n",
              "    80% {\n",
              "      border-color: transparent;\n",
              "      border-right-color: var(--fill-color);\n",
              "      border-bottom-color: var(--fill-color);\n",
              "    }\n",
              "    90% {\n",
              "      border-color: transparent;\n",
              "      border-bottom-color: var(--fill-color);\n",
              "    }\n",
              "  }\n",
              "</style>\n",
              "\n",
              "  <script>\n",
              "    async function quickchart(key) {\n",
              "      const quickchartButtonEl =\n",
              "        document.querySelector('#' + key + ' button');\n",
              "      quickchartButtonEl.disabled = true;  // To prevent multiple clicks.\n",
              "      quickchartButtonEl.classList.add('colab-df-spinner');\n",
              "      try {\n",
              "        const charts = await google.colab.kernel.invokeFunction(\n",
              "            'suggestCharts', [key], {});\n",
              "      } catch (error) {\n",
              "        console.error('Error during call to suggestCharts:', error);\n",
              "      }\n",
              "      quickchartButtonEl.classList.remove('colab-df-spinner');\n",
              "      quickchartButtonEl.classList.add('colab-df-quickchart-complete');\n",
              "    }\n",
              "    (() => {\n",
              "      let quickchartButtonEl =\n",
              "        document.querySelector('#df-e1ad0dd4-868b-4505-a83a-04a6d8779f85 button');\n",
              "      quickchartButtonEl.style.display =\n",
              "        google.colab.kernel.accessAllowed ? 'block' : 'none';\n",
              "    })();\n",
              "  </script>\n",
              "</div>\n",
              "\n",
              "  <div id=\"id_08e8ff06-2b54-4469-a711-ee355643680b\">\n",
              "    <style>\n",
              "      .colab-df-generate {\n",
              "        background-color: #E8F0FE;\n",
              "        border: none;\n",
              "        border-radius: 50%;\n",
              "        cursor: pointer;\n",
              "        display: none;\n",
              "        fill: #1967D2;\n",
              "        height: 32px;\n",
              "        padding: 0 0 0 0;\n",
              "        width: 32px;\n",
              "      }\n",
              "\n",
              "      .colab-df-generate:hover {\n",
              "        background-color: #E2EBFA;\n",
              "        box-shadow: 0px 1px 2px rgba(60, 64, 67, 0.3), 0px 1px 3px 1px rgba(60, 64, 67, 0.15);\n",
              "        fill: #174EA6;\n",
              "      }\n",
              "\n",
              "      [theme=dark] .colab-df-generate {\n",
              "        background-color: #3B4455;\n",
              "        fill: #D2E3FC;\n",
              "      }\n",
              "\n",
              "      [theme=dark] .colab-df-generate:hover {\n",
              "        background-color: #434B5C;\n",
              "        box-shadow: 0px 1px 3px 1px rgba(0, 0, 0, 0.15);\n",
              "        filter: drop-shadow(0px 1px 2px rgba(0, 0, 0, 0.3));\n",
              "        fill: #FFFFFF;\n",
              "      }\n",
              "    </style>\n",
              "    <button class=\"colab-df-generate\" onclick=\"generateWithVariable('X')\"\n",
              "            title=\"Generate code using this dataframe.\"\n",
              "            style=\"display:none;\">\n",
              "\n",
              "  <svg xmlns=\"http://www.w3.org/2000/svg\" height=\"24px\"viewBox=\"0 0 24 24\"\n",
              "       width=\"24px\">\n",
              "    <path d=\"M7,19H8.4L18.45,9,17,7.55,7,17.6ZM5,21V16.75L18.45,3.32a2,2,0,0,1,2.83,0l1.4,1.43a1.91,1.91,0,0,1,.58,1.4,1.91,1.91,0,0,1-.58,1.4L9.25,21ZM18.45,9,17,7.55Zm-12,3A5.31,5.31,0,0,0,4.9,8.1,5.31,5.31,0,0,0,1,6.5,5.31,5.31,0,0,0,4.9,4.9,5.31,5.31,0,0,0,6.5,1,5.31,5.31,0,0,0,8.1,4.9,5.31,5.31,0,0,0,12,6.5,5.46,5.46,0,0,0,6.5,12Z\"/>\n",
              "  </svg>\n",
              "    </button>\n",
              "    <script>\n",
              "      (() => {\n",
              "      const buttonEl =\n",
              "        document.querySelector('#id_08e8ff06-2b54-4469-a711-ee355643680b button.colab-df-generate');\n",
              "      buttonEl.style.display =\n",
              "        google.colab.kernel.accessAllowed ? 'block' : 'none';\n",
              "\n",
              "      buttonEl.onclick = () => {\n",
              "        google.colab.notebook.generateWithVariable('X');\n",
              "      }\n",
              "      })();\n",
              "    </script>\n",
              "  </div>\n",
              "\n",
              "    </div>\n",
              "  </div>\n"
            ],
            "application/vnd.google.colaboratory.intrinsic+json": {
              "type": "dataframe",
              "variable_name": "X",
              "summary": "{\n  \"name\": \"X\",\n  \"rows\": 19020,\n  \"fields\": [\n    {\n      \"column\": 0,\n      \"properties\": {\n        \"dtype\": \"number\",\n        \"std\": 0.1284197928810441,\n        \"min\": 0.0,\n        \"max\": 1.0,\n        \"num_unique_values\": 18643,\n        \"samples\": [\n          0.07592359352336436,\n          0.1726332892281903,\n          0.11039380891105767\n        ],\n        \"semantic_type\": \"\",\n        \"description\": \"\"\n      }\n    },\n    {\n      \"column\": 1,\n      \"properties\": {\n        \"dtype\": \"number\",\n        \"std\": 0.07155750519023023,\n        \"min\": 0.0,\n        \"max\": 1.0,\n        \"num_unique_values\": 18200,\n        \"samples\": [\n          0.04102004040845301,\n          0.0876442183928669,\n          0.07034347185059793\n        ],\n        \"semantic_type\": \"\",\n        \"description\": \"\"\n      }\n    },\n    {\n      \"column\": 2,\n      \"properties\": {\n        \"dtype\": \"number\",\n        \"std\": 0.1397393993759041,\n        \"min\": 0.0,\n        \"max\": 0.9999999999999999,\n        \"num_unique_values\": 7228,\n        \"samples\": [\n          0.25792430514488474,\n          0.16877587226493207,\n          0.42844470727380235\n        ],\n        \"semantic_type\": \"\",\n        \"description\": \"\"\n      }\n    },\n    {\n      \"column\": 3,\n      \"properties\": {\n        \"dtype\": \"number\",\n        \"std\": 0.2077658225039627,\n        \"min\": 0.0,\n        \"max\": 1.0,\n        \"num_unique_values\": 6410,\n        \"samples\": [\n          0.09842027503125354,\n          0.19445391521763838,\n          0.13399249914763042\n        ],\n        \"semantic_type\": \"\",\n        \"description\": \"\"\n      }\n    },\n    {\n      \"column\": 4,\n      \"properties\": {\n        \"dtype\": \"number\",\n        \"std\": 0.16374396044148493,\n        \"min\": 0.0,\n        \"max\": 1.0,\n        \"num_unique_values\": 4421,\n        \"samples\": [\n          0.6886946214253963,\n          0.04771077196621721,\n          0.2591495036301674\n        ],\n        \"semantic_type\": \"\",\n        \"description\": \"\"\n      }\n    },\n    {\n      \"column\": 5,\n      \"properties\": {\n        \"dtype\": \"number\",\n        \"std\": 0.057305979096992074,\n        \"min\": 0.0,\n        \"max\": 1.0,\n        \"num_unique_values\": 18704,\n        \"samples\": [\n          0.38607808611432454,\n          0.47405669691183366,\n          0.47438317204126224\n        ],\n        \"semantic_type\": \"\",\n        \"description\": \"\"\n      }\n    },\n    {\n      \"column\": 6,\n      \"properties\": {\n        \"dtype\": \"number\",\n        \"std\": 0.08945803991553411,\n        \"min\": 0.0,\n        \"max\": 0.9999999999999999,\n        \"num_unique_values\": 18693,\n        \"samples\": [\n          0.559576636420564,\n          0.6138366710460076,\n          0.6152358967972341\n        ],\n        \"semantic_type\": \"\",\n        \"description\": \"\"\n      }\n    },\n    {\n      \"column\": 7,\n      \"properties\": {\n        \"dtype\": \"number\",\n        \"std\": 0.053992666534528236,\n        \"min\": 0.0,\n        \"max\": 1.0,\n        \"num_unique_values\": 18390,\n        \"samples\": [\n          0.43190863825572134,\n          0.5084779946996169,\n          0.4891644936029099\n        ],\n        \"semantic_type\": \"\",\n        \"description\": \"\"\n      }\n    },\n    {\n      \"column\": 8,\n      \"properties\": {\n        \"dtype\": \"number\",\n        \"std\": 0.2900402278928699,\n        \"min\": 0.0,\n        \"max\": 1.0,\n        \"num_unique_values\": 17981,\n        \"samples\": [\n          0.09254333333333335,\n          0.06511111111111112,\n          0.014223333333333334\n        ],\n        \"semantic_type\": \"\",\n        \"description\": \"\"\n      }\n    },\n    {\n      \"column\": 9,\n      \"properties\": {\n        \"dtype\": \"number\",\n        \"std\": 0.15119371383240243,\n        \"min\": 0.0,\n        \"max\": 1.0,\n        \"num_unique_values\": 18437,\n        \"samples\": [\n          0.5859074562028203,\n          0.40059893371832556,\n          0.34406196993435284\n        ],\n        \"semantic_type\": \"\",\n        \"description\": \"\"\n      }\n    }\n  ]\n}"
            }
          },
          "metadata": {},
          "execution_count": 122
        }
      ],
      "source": [
        "X = normalizar_dados(X)\n",
        "X"
      ]
    },
    {
      "cell_type": "code",
      "execution_count": null,
      "metadata": {
        "id": "8c9G716BsEd-"
      },
      "outputs": [],
      "source": [
        "X_train, y_train, X_test, y_test = kfolds(FOLDS,X,y)"
      ]
    },
    {
      "cell_type": "markdown",
      "source": [
        "###DECISION TREES"
      ],
      "metadata": {
        "id": "SjsJf6tw0YvB"
      }
    },
    {
      "cell_type": "code",
      "execution_count": null,
      "metadata": {
        "colab": {
          "base_uri": "https://localhost:8080/"
        },
        "id": "xg3zIN0xsIdC",
        "outputId": "f567eb4b-744d-4eef-d60f-c70fbbf636d8"
      },
      "outputs": [
        {
          "output_type": "stream",
          "name": "stdout",
          "text": [
            "81%\n"
          ]
        }
      ],
      "source": [
        "final_Results = {}\n",
        "results_tree_gini = arvore(FOLDS,X_train,y_train,X_test,y_test,\"gini\")\n",
        "\n",
        "#print(results_tree_gini)\n",
        "show = round(np.mean(results_tree_gini) * 100)\n",
        "final_Results[\"Tree Gini\"] = [f\"{show}%\"]\n",
        "print(\"{}%\".format(show))"
      ]
    },
    {
      "cell_type": "code",
      "execution_count": null,
      "metadata": {
        "colab": {
          "base_uri": "https://localhost:8080/"
        },
        "id": "nWoBcU4HtdqH",
        "outputId": "cd9a3365-1b40-4388-fdf7-70f4b1582201"
      },
      "outputs": [
        {
          "output_type": "stream",
          "name": "stdout",
          "text": [
            "82%\n"
          ]
        }
      ],
      "source": [
        "results_tree_entropy = arvore(FOLDS,X_train,y_train,X_test,y_test,\"entropy\")\n",
        "\n",
        "#print(results_tree_entropy)\n",
        "show = round(np.mean(results_tree_entropy) * 100)\n",
        "final_Results[\"Tree Entropy\"] = [f\"{show}%\"]\n",
        "print(\"{}%\".format(show))"
      ]
    },
    {
      "cell_type": "code",
      "source": [
        "import matplotlib.pyplot as plt\n",
        "import numpy as np\n",
        "\n",
        "# 🔹 Pegar os valores de acurácia, F1-score e AUC-ROC\n",
        "valores_gini = np.array([float(m.strip(\"%\")) for m in final_Results[\"Tree Gini\"]])\n",
        "valores_entropy = np.array([float(m.strip(\"%\")) for m in final_Results[\"Tree Entropy\"]])\n",
        "\n",
        "# 🔹 Definir rótulos\n",
        "labels = [\"Acurácia\", \"F1-score\", \"AUC-ROC\"]\n",
        "x = np.arange(len(labels))\n",
        "\n",
        "# 🔹 Criar o gráfico\n",
        "plt.figure(figsize=(8, 5))\n",
        "plt.bar(x - 0.2, valores_gini, width=0.4, label=\"Tree Gini\", color=\"blue\", alpha=0.7)\n",
        "plt.bar(x + 0.2, valores_entropy, width=0.4, label=\"Tree Entropy\", color=\"red\", alpha=0.7)\n",
        "\n",
        "plt.xticks(x, labels, fontsize=12)\n",
        "plt.ylabel(\"Média (%)\", fontsize=12)\n",
        "plt.title(\"Comparação: Árvore Gini vs. Árvore Entropia\", fontsize=14)\n",
        "plt.legend()\n",
        "plt.grid(axis=\"y\", linestyle=\"--\", alpha=0.5)\n",
        "\n",
        "plt.show()\n"
      ],
      "metadata": {
        "colab": {
          "base_uri": "https://localhost:8080/",
          "height": 476
        },
        "id": "TlgMvsvHgE9M",
        "outputId": "0b2da1ef-a3fa-4d6e-b67d-612eae1b73b9"
      },
      "execution_count": null,
      "outputs": [
        {
          "output_type": "display_data",
          "data": {
            "text/plain": [
              "<Figure size 800x500 with 1 Axes>"
            ],
            "image/png": "[encoded data removed]"
          },
          "metadata": {}
        }
      ]
    },
    {
      "cell_type": "markdown",
      "source": [
        "###KNN"
      ],
      "metadata": {
        "id": "1U17G4Uc0R8l"
      }
    },
    {
      "cell_type": "code",
      "execution_count": null,
      "metadata": {
        "colab": {
          "base_uri": "https://localhost:8080/"
        },
        "id": "PCwC2MjPtv3W",
        "outputId": "80558b7d-48cf-426b-e934-e0c710879bc2"
      },
      "outputs": [
        {
          "output_type": "stream",
          "name": "stdout",
          "text": [
            "81%\n"
          ]
        }
      ],
      "source": [
        "results_KNN_5 = knn(FOLDS,X_train,y_train,X_test,y_test,5,'euclidean','brute')\n",
        "\n",
        "#print(results_KNN_5)\n",
        "show = round(np.mean(results_KNN_5) * 100)\n",
        "final_Results[\"kNN 5\"] = [f\"{show}%\"]\n",
        "print(\"{}%\".format(show))"
      ]
    },
    {
      "cell_type": "code",
      "execution_count": null,
      "metadata": {
        "colab": {
          "base_uri": "https://localhost:8080/"
        },
        "id": "COFOwy5VuQ8R",
        "outputId": "1b48e011-c947-4b6f-c9e3-8df6d2397912"
      },
      "outputs": [
        {
          "output_type": "stream",
          "name": "stdout",
          "text": [
            "81%\n"
          ]
        }
      ],
      "source": [
        "results_KNN_10 = knn(FOLDS,X_train,y_train,X_test,y_test,10,'euclidean','brute')\n",
        "\n",
        "#print(results_KNN_10)\n",
        "show = round(np.mean(results_KNN_10) * 100)\n",
        "final_Results[\"kNN 10\"] = [f\"{show}%\"]\n",
        "print(\"{}%\".format(show))"
      ]
    },
    {
      "cell_type": "code",
      "source": [
        "valores_knn5 = np.array([float(m.strip(\"%\")) for m in final_Results[\"kNN 5\"]])\n",
        "valores_knn10 = np.array([float(m.strip(\"%\")) for m in final_Results[\"kNN 10\"]])\n",
        "\n",
        "labels = [\"Acurácia\", \"F1-score\", \"AUC-ROC\"]\n",
        "x = np.arange(len(labels))\n",
        "\n",
        "plt.figure(figsize=(8, 5))\n",
        "plt.bar(x - 0.2, valores_knn5, width=0.4, label=\"kNN 5\", color=\"blue\", alpha=0.7)\n",
        "plt.bar(x + 0.2, valores_knn10, width=0.4, label=\"kNN 10\", color=\"red\", alpha=0.7)\n",
        "\n",
        "plt.xticks(x, labels, fontsize=12)\n",
        "plt.ylabel(\"Média (%)\", fontsize=12)\n",
        "plt.title(\"Comparação: kNN 5 vs. kNN 10\", fontsize=14)\n",
        "plt.legend()\n",
        "plt.grid(axis=\"y\", linestyle=\"--\", alpha=0.5)\n",
        "\n",
        "plt.show()\n"
      ],
      "metadata": {
        "colab": {
          "base_uri": "https://localhost:8080/",
          "height": 473
        },
        "id": "P9DI3fpthF9z",
        "outputId": "375d3b84-763f-4285-da94-19943689cd9d"
      },
      "execution_count": null,
      "outputs": [
        {
          "output_type": "display_data",
          "data": {
            "text/plain": [
              "<Figure size 800x500 with 1 Axes>"
            ],
            "image/png": "[encoded data removed]"
          },
          "metadata": {}
        }
      ]
    },
    {
      "cell_type": "markdown",
      "source": [
        "###MLP RELU"
      ],
      "metadata": {
        "id": "tbnBmniJy2h9"
      }
    },
    {
      "cell_type": "code",
      "execution_count": null,
      "metadata": {
        "colab": {
          "base_uri": "https://localhost:8080/",
          "height": 594
        },
        "id": "9KPIhkBkuYe1",
        "outputId": "51fdbf93-98b0-4c72-fca9-b8dda9f89726"
      },
      "outputs": [
        {
          "output_type": "display_data",
          "data": {
            "text/plain": [
              "<Figure size 800x600 with 1 Axes>"
            ],
            "image/png": "[encoded data removed]"
          },
          "metadata": {}
        },
        {
          "output_type": "stream",
          "name": "stdout",
          "text": [
            "83%\n"
          ]
        }
      ],
      "source": [
        "results_MLP_1_Relu = mlp(FOLDS,X_train,y_train,X_test,y_test,(40,20),'relu',2000)\n",
        "\n",
        "#print(results_MLP_1_Relu)\n",
        "show = round(np.mean(results_MLP_1_Relu) * 100)\n",
        "final_Results[\"MLP 1 Relu\"] = [f\"{show}%\"]\n",
        "print(\"{}%\".format(show))"
      ]
    },
    {
      "cell_type": "code",
      "source": [
        "results_MLP_2_Relu = mlp(FOLDS,X_train,y_train,X_test,y_test,(30,20,10,5),'relu',2000)\n",
        "\n",
        "#print(results_MLP_2_Relu)\n",
        "show = round(np.mean(results_MLP_2_Relu) * 100)\n",
        "final_Results[\"MLP 2 Relu\"] = [f\"{show}%\"]\n",
        "print(\"{}%\".format(show))"
      ],
      "metadata": {
        "colab": {
          "base_uri": "https://localhost:8080/",
          "height": 594
        },
        "id": "zJV3oXElygIQ",
        "outputId": "8396d132-9c31-4cdd-ffab-2b6ad4bc12c8"
      },
      "execution_count": null,
      "outputs": [
        {
          "output_type": "display_data",
          "data": {
            "text/plain": [
              "<Figure size 800x600 with 1 Axes>"
            ],
            "image/png": "[encoded data removed]"
          },
          "metadata": {}
        },
        {
          "output_type": "stream",
          "name": "stdout",
          "text": [
            "84%\n"
          ]
        }
      ]
    },
    {
      "cell_type": "code",
      "source": [
        "import matplotlib.pyplot as plt\n",
        "import numpy as np\n",
        "\n",
        "# 🔹 Pegar os valores de acurácia, F1-score e AUC-ROC\n",
        "valores_mlp1_relu = np.array([float(m.strip(\"%\")) for m in final_Results[\"MLP 1 Relu\"]])\n",
        "valores_mlp2_relu = np.array([float(m.strip(\"%\")) for m in final_Results[\"MLP 2 Relu\"]])\n",
        "\n",
        "labels = [\"Acurácia\", \"F1-score\", \"AUC-ROC\"]\n",
        "x = np.arange(len(labels))\n",
        "\n",
        "# 🔹 Criar o gráfico\n",
        "plt.figure(figsize=(8, 5))\n",
        "plt.bar(x - 0.2, valores_mlp1_relu, width=0.4, label=\"MLP 1 ReLU\", color=\"blue\", alpha=0.7)\n",
        "plt.bar(x + 0.2, valores_mlp2_relu, width=0.4, label=\"MLP 2 ReLU\", color=\"red\", alpha=0.7)\n",
        "\n",
        "plt.xticks(x, labels, fontsize=12)\n",
        "plt.ylabel(\"Média (%)\", fontsize=12)\n",
        "plt.title(\"Comparação: MLP 1 ReLU vs. MLP 2 ReLU\", fontsize=14)\n",
        "plt.legend()\n",
        "plt.grid(axis=\"y\", linestyle=\"--\", alpha=0.5)\n",
        "\n",
        "plt.show()\n"
      ],
      "metadata": {
        "colab": {
          "base_uri": "https://localhost:8080/",
          "height": 473
        },
        "id": "jr8aiFFbiDyW",
        "outputId": "b4abc0a3-c1dd-4739-be73-deb57ac9a6fb"
      },
      "execution_count": null,
      "outputs": [
        {
          "output_type": "display_data",
          "data": {
            "text/plain": [
              "<Figure size 800x500 with 1 Axes>"
            ],
            "image/png": "[encoded data removed]"
          },
          "metadata": {}
        }
      ]
    },
    {
      "cell_type": "markdown",
      "source": [
        "###MLP TANH"
      ],
      "metadata": {
        "id": "XDA6cAFNyxnv"
      }
    },
    {
      "cell_type": "code",
      "execution_count": null,
      "metadata": {
        "colab": {
          "base_uri": "https://localhost:8080/",
          "height": 594
        },
        "id": "W4gzBjzDuyxw",
        "outputId": "c02d44ed-9964-4959-99c5-b04601ea3366"
      },
      "outputs": [
        {
          "output_type": "display_data",
          "data": {
            "text/plain": [
              "<Figure size 800x600 with 1 Axes>"
            ],
            "image/png": "[encoded data removed]"
          },
          "metadata": {}
        },
        {
          "output_type": "stream",
          "name": "stdout",
          "text": [
            "85%\n"
          ]
        }
      ],
      "source": [
        "results_MLP_1_Tanh = mlp(FOLDS,X_train,y_train,X_test,y_test,(40,20),'tanh',2000)\n",
        "\n",
        "#print(results_MLP_1_Tanh)\n",
        "show = round(np.mean(results_MLP_1_Tanh) * 100)\n",
        "final_Results[\"MLP 1 Tanh\"] = [f\"{show}%\"]\n",
        "print(\"{}%\".format(show))"
      ]
    },
    {
      "cell_type": "code",
      "execution_count": null,
      "metadata": {
        "colab": {
          "base_uri": "https://localhost:8080/",
          "height": 594
        },
        "id": "Icg-vx_Vvd-V",
        "outputId": "ad2aafed-d894-45b4-ee22-5eaf7e19ad14"
      },
      "outputs": [
        {
          "output_type": "display_data",
          "data": {
            "text/plain": [
              "<Figure size 800x600 with 1 Axes>"
            ],
            "image/png": "[encoded data removed]"
          },
          "metadata": {}
        },
        {
          "output_type": "stream",
          "name": "stdout",
          "text": [
            "84%\n"
          ]
        }
      ],
      "source": [
        "results_MLP_2_Tanh = mlp(FOLDS,X_train,y_train,X_test,y_test,(30,20,10,5),'tanh',2000)\n",
        "\n",
        "#print(results_MLP_2_Tanh)\n",
        "show = round(np.mean(results_MLP_2_Tanh) * 100)\n",
        "final_Results[\"MLP 2 Tanh\"] = [f\"{show}%\"]\n",
        "print(\"{}%\".format(show))"
      ]
    },
    {
      "cell_type": "code",
      "source": [
        "valores_mlp1_tanh = np.array([float(m.strip(\"%\")) for m in final_Results[\"MLP 1 Tanh\"]])\n",
        "valores_mlp2_tanh = np.array([float(m.strip(\"%\")) for m in final_Results[\"MLP 2 Tanh\"]])\n",
        "\n",
        "labels = [\"Acurácia\", \"F1-score\", \"AUC-ROC\"]\n",
        "x = np.arange(len(labels))\n",
        "\n",
        "plt.figure(figsize=(8, 5))\n",
        "plt.bar(x - 0.2, valores_mlp1_tanh, width=0.4, label=\"MLP 1 Tanh\", color=\"blue\", alpha=0.7)\n",
        "plt.bar(x + 0.2, valores_mlp2_tanh, width=0.4, label=\"MLP 2 Tanh\", color=\"red\", alpha=0.7)\n",
        "\n",
        "plt.xticks(x, labels, fontsize=12)\n",
        "plt.ylabel(\"Média (%)\", fontsize=12)\n",
        "plt.title(\"Comparação: MLP 1 Tanh vs. MLP 2 Tanh\", fontsize=14)\n",
        "plt.legend()\n",
        "plt.grid(axis=\"y\", linestyle=\"--\", alpha=0.5)\n",
        "\n",
        "plt.show()\n"
      ],
      "metadata": {
        "colab": {
          "base_uri": "https://localhost:8080/",
          "height": 473
        },
        "id": "KYK0CTa7hNum",
        "outputId": "363303e2-793b-4de9-f300-94a29db8d6a9"
      },
      "execution_count": null,
      "outputs": [
        {
          "output_type": "display_data",
          "data": {
            "text/plain": [
              "<Figure size 800x500 with 1 Axes>"
            ],
            "image/png": "[encoded data removed]"
          },
          "metadata": {}
        }
      ]
    },
    {
      "cell_type": "markdown",
      "source": [
        "##COMPARAÇÃO"
      ],
      "metadata": {
        "id": "_g6WVAMwlM2K"
      }
    },
    {
      "cell_type": "code",
      "source": [
        "valores_mlp1_relu = np.array([float(m.strip(\"%\")) for m in final_Results[\"MLP 1 Relu\"]])\n",
        "valores_mlp1_tanh = np.array([float(m.strip(\"%\")) for m in final_Results[\"MLP 1 Tanh\"]])\n",
        "\n",
        "labels = [\"Acurácia\", \"F1-score\", \"AUC-ROC\"]\n",
        "x = np.arange(len(labels))\n",
        "\n",
        "plt.figure(figsize=(8, 5))\n",
        "plt.bar(x - 0.2, valores_mlp1_relu, width=0.4, label=\"MLP 1 ReLU\", color=\"blue\", alpha=0.7)\n",
        "plt.bar(x + 0.2, valores_mlp1_tanh, width=0.4, label=\"MLP 1 Tanh\", color=\"red\", alpha=0.7)\n",
        "\n",
        "plt.xticks(x, labels, fontsize=12)\n",
        "plt.ylabel(\"Média (%)\", fontsize=12)\n",
        "plt.title(\"Comparação: MLP 1 ReLU vs. MLP 1 Tanh\", fontsize=14)\n",
        "plt.legend()\n",
        "plt.grid(axis=\"y\", linestyle=\"--\", alpha=0.5)\n",
        "\n",
        "plt.show()\n"
      ],
      "metadata": {
        "colab": {
          "base_uri": "https://localhost:8080/",
          "height": 473
        },
        "id": "ubBmsD3WlPAP",
        "outputId": "c633aeff-7f54-452c-90f7-b390f89fc05f"
      },
      "execution_count": null,
      "outputs": [
        {
          "output_type": "display_data",
          "data": {
            "text/plain": [
              "<Figure size 800x500 with 1 Axes>"
            ],
            "image/png": "[encoded data removed]"
          },
          "metadata": {}
        }
      ]
    },
    {
      "cell_type": "markdown",
      "source": [
        "###KMEANS\n"
      ],
      "metadata": {
        "id": "-RM7voGScOPo"
      }
    },
    {
      "cell_type": "code",
      "execution_count": null,
      "metadata": {
        "colab": {
          "base_uri": "https://localhost:8080/"
        },
        "id": "fM2zAWmExHqI",
        "outputId": "b50296f6-a8a9-4212-a32e-21106a35b502"
      },
      "outputs": [
        {
          "output_type": "stream",
          "name": "stdout",
          "text": [
            "2\n",
            "65%\n"
          ]
        }
      ],
      "source": [
        "clusters = len(set(y))\n",
        "print(clusters)\n",
        "results_KMEANS = kmeans(FOLDS,X_train,y_train,X_test,y_test,clusters)\n",
        "\n",
        "show = round(np.mean(results_KMEANS) * 100)\n",
        "final_Results[\"kMeans\"] = [f\"{show}%\"]\n",
        "print(\"{}%\".format(show))"
      ]
    },
    {
      "cell_type": "markdown",
      "source": [
        "###APRESENTAÇÃO"
      ],
      "metadata": {
        "id": "GMgxF0LrcS1i"
      }
    },
    {
      "cell_type": "code",
      "execution_count": null,
      "metadata": {
        "colab": {
          "base_uri": "https://localhost:8080/",
          "height": 89
        },
        "id": "xUVSi8WTyBYe",
        "outputId": "7fed05bc-7167-486b-d3ef-2f7fa019500e"
      },
      "outputs": [
        {
          "output_type": "execute_result",
          "data": {
            "text/plain": [
              "  Tree Gini Tree Entropy kNN 5 kNN 10 MLP 1 Relu MLP 1 Tanh MLP 2 Relu kMeans  \\\n",
              "0       81%          82%   84%    84%        87%        88%        85%    65%   \n",
              "\n",
              "  MLP 2 Tanh  \n",
              "0        88%  "
            ],
            "text/html": [
              "\n",
              "  <div id=\"df-2b6f43a7-ccc3-4ad6-bbb6-f1309bc820d7\" class=\"colab-df-container\">\n",
              "    <div>\n",
              "<style scoped>\n",
              "    .dataframe tbody tr th:only-of-type {\n",
              "        vertical-align: middle;\n",
              "    }\n",
              "\n",
              "    .dataframe tbody tr th {\n",
              "        vertical-align: top;\n",
              "    }\n",
              "\n",
              "    .dataframe thead th {\n",
              "        text-align: right;\n",
              "    }\n",
              "</style>\n",
              "<table border=\"1\" class=\"dataframe\">\n",
              "  <thead>\n",
              "    <tr style=\"text-align: right;\">\n",
              "      <th></th>\n",
              "      <th>Tree Gini</th>\n",
              "      <th>Tree Entropy</th>\n",
              "      <th>kNN 5</th>\n",
              "      <th>kNN 10</th>\n",
              "      <th>MLP 1 Relu</th>\n",
              "      <th>MLP 1 Tanh</th>\n",
              "      <th>MLP 2 Relu</th>\n",
              "      <th>kMeans</th>\n",
              "      <th>MLP 2 Tanh</th>\n",
              "    </tr>\n",
              "  </thead>\n",
              "  <tbody>\n",
              "    <tr>\n",
              "      <th>0</th>\n",
              "      <td>81%</td>\n",
              "      <td>82%</td>\n",
              "      <td>84%</td>\n",
              "      <td>84%</td>\n",
              "      <td>87%</td>\n",
              "      <td>88%</td>\n",
              "      <td>85%</td>\n",
              "      <td>65%</td>\n",
              "      <td>88%</td>\n",
              "    </tr>\n",
              "  </tbody>\n",
              "</table>\n",
              "</div>\n",
              "    <div class=\"colab-df-buttons\">\n",
              "\n",
              "  <div class=\"colab-df-container\">\n",
              "    <button class=\"colab-df-convert\" onclick=\"convertToInteractive('df-2b6f43a7-ccc3-4ad6-bbb6-f1309bc820d7')\"\n",
              "            title=\"Convert this dataframe to an interactive table.\"\n",
              "            style=\"display:none;\">\n",
              "\n",
              "  <svg xmlns=\"http://www.w3.org/2000/svg\" height=\"24px\" viewBox=\"0 -960 960 960\">\n",
              "    <path d=\"M120-120v-720h720v720H120Zm60-500h600v-160H180v160Zm220 220h160v-160H400v160Zm0 220h160v-160H400v160ZM180-400h160v-160H180v160Zm440 0h160v-160H620v160ZM180-180h160v-160H180v160Zm440 0h160v-160H620v160Z\"/>\n",
              "  </svg>\n",
              "    </button>\n",
              "\n",
              "  <style>\n",
              "    .colab-df-container {\n",
              "      display:flex;\n",
              "      gap: 12px;\n",
              "    }\n",
              "\n",
              "    .colab-df-convert {\n",
              "      background-color: #E8F0FE;\n",
              "      border: none;\n",
              "      border-radius: 50%;\n",
              "      cursor: pointer;\n",
              "      display: none;\n",
              "      fill: #1967D2;\n",
              "      height: 32px;\n",
              "      padding: 0 0 0 0;\n",
              "      width: 32px;\n",
              "    }\n",
              "\n",
              "    .colab-df-convert:hover {\n",
              "      background-color: #E2EBFA;\n",
              "      box-shadow: 0px 1px 2px rgba(60, 64, 67, 0.3), 0px 1px 3px 1px rgba(60, 64, 67, 0.15);\n",
              "      fill: #174EA6;\n",
              "    }\n",
              "\n",
              "    .colab-df-buttons div {\n",
              "      margin-bottom: 4px;\n",
              "    }\n",
              "\n",
              "    [theme=dark] .colab-df-convert {\n",
              "      background-color: #3B4455;\n",
              "      fill: #D2E3FC;\n",
              "    }\n",
              "\n",
              "    [theme=dark] .colab-df-convert:hover {\n",
              "      background-color: #434B5C;\n",
              "      box-shadow: 0px 1px 3px 1px rgba(0, 0, 0, 0.15);\n",
              "      filter: drop-shadow(0px 1px 2px rgba(0, 0, 0, 0.3));\n",
              "      fill: #FFFFFF;\n",
              "    }\n",
              "  </style>\n",
              "\n",
              "    <script>\n",
              "      const buttonEl =\n",
              "        document.querySelector('#df-2b6f43a7-ccc3-4ad6-bbb6-f1309bc820d7 button.colab-df-convert');\n",
              "      buttonEl.style.display =\n",
              "        google.colab.kernel.accessAllowed ? 'block' : 'none';\n",
              "\n",
              "      async function convertToInteractive(key) {\n",
              "        const element = document.querySelector('#df-2b6f43a7-ccc3-4ad6-bbb6-f1309bc820d7');\n",
              "        const dataTable =\n",
              "          await google.colab.kernel.invokeFunction('convertToInteractive',\n",
              "                                                    [key], {});\n",
              "        if (!dataTable) return;\n",
              "\n",
              "        const docLinkHtml = 'Like what you see? Visit the ' +\n",
              "          '<a target=\"_blank\" href=https://colab.research.google.com/notebooks/data_table.ipynb>data table notebook</a>'\n",
              "          + ' to learn more about interactive tables.';\n",
              "        element.innerHTML = '';\n",
              "        dataTable['output_type'] = 'display_data';\n",
              "        await google.colab.output.renderOutput(dataTable, element);\n",
              "        const docLink = document.createElement('div');\n",
              "        docLink.innerHTML = docLinkHtml;\n",
              "        element.appendChild(docLink);\n",
              "      }\n",
              "    </script>\n",
              "  </div>\n",
              "\n",
              "\n",
              "  <div id=\"id_4b0c0dc6-9930-4b3b-8091-0af90f9ea3a1\">\n",
              "    <style>\n",
              "      .colab-df-generate {\n",
              "        background-color: #E8F0FE;\n",
              "        border: none;\n",
              "        border-radius: 50%;\n",
              "        cursor: pointer;\n",
              "        display: none;\n",
              "        fill: #1967D2;\n",
              "        height: 32px;\n",
              "        padding: 0 0 0 0;\n",
              "        width: 32px;\n",
              "      }\n",
              "\n",
              "      .colab-df-generate:hover {\n",
              "        background-color: #E2EBFA;\n",
              "        box-shadow: 0px 1px 2px rgba(60, 64, 67, 0.3), 0px 1px 3px 1px rgba(60, 64, 67, 0.15);\n",
              "        fill: #174EA6;\n",
              "      }\n",
              "\n",
              "      [theme=dark] .colab-df-generate {\n",
              "        background-color: #3B4455;\n",
              "        fill: #D2E3FC;\n",
              "      }\n",
              "\n",
              "      [theme=dark] .colab-df-generate:hover {\n",
              "        background-color: #434B5C;\n",
              "        box-shadow: 0px 1px 3px 1px rgba(0, 0, 0, 0.15);\n",
              "        filter: drop-shadow(0px 1px 2px rgba(0, 0, 0, 0.3));\n",
              "        fill: #FFFFFF;\n",
              "      }\n",
              "    </style>\n",
              "    <button class=\"colab-df-generate\" onclick=\"generateWithVariable('df')\"\n",
              "            title=\"Generate code using this dataframe.\"\n",
              "            style=\"display:none;\">\n",
              "\n",
              "  <svg xmlns=\"http://www.w3.org/2000/svg\" height=\"24px\"viewBox=\"0 0 24 24\"\n",
              "       width=\"24px\">\n",
              "    <path d=\"M7,19H8.4L18.45,9,17,7.55,7,17.6ZM5,21V16.75L18.45,3.32a2,2,0,0,1,2.83,0l1.4,1.43a1.91,1.91,0,0,1,.58,1.4,1.91,1.91,0,0,1-.58,1.4L9.25,21ZM18.45,9,17,7.55Zm-12,3A5.31,5.31,0,0,0,4.9,8.1,5.31,5.31,0,0,0,1,6.5,5.31,5.31,0,0,0,4.9,4.9,5.31,5.31,0,0,0,6.5,1,5.31,5.31,0,0,0,8.1,4.9,5.31,5.31,0,0,0,12,6.5,5.46,5.46,0,0,0,6.5,12Z\"/>\n",
              "  </svg>\n",
              "    </button>\n",
              "    <script>\n",
              "      (() => {\n",
              "      const buttonEl =\n",
              "        document.querySelector('#id_4b0c0dc6-9930-4b3b-8091-0af90f9ea3a1 button.colab-df-generate');\n",
              "      buttonEl.style.display =\n",
              "        google.colab.kernel.accessAllowed ? 'block' : 'none';\n",
              "\n",
              "      buttonEl.onclick = () => {\n",
              "        google.colab.notebook.generateWithVariable('df');\n",
              "      }\n",
              "      })();\n",
              "    </script>\n",
              "  </div>\n",
              "\n",
              "    </div>\n",
              "  </div>\n"
            ],
            "application/vnd.google.colaboratory.intrinsic+json": {
              "type": "dataframe",
              "variable_name": "df",
              "summary": "{\n  \"name\": \"df\",\n  \"rows\": 1,\n  \"fields\": [\n    {\n      \"column\": \"Tree Gini\",\n      \"properties\": {\n        \"dtype\": \"string\",\n        \"num_unique_values\": 1,\n        \"samples\": [\n          \"81%\"\n        ],\n        \"semantic_type\": \"\",\n        \"description\": \"\"\n      }\n    },\n    {\n      \"column\": \"Tree Entropy\",\n      \"properties\": {\n        \"dtype\": \"string\",\n        \"num_unique_values\": 1,\n        \"samples\": [\n          \"82%\"\n        ],\n        \"semantic_type\": \"\",\n        \"description\": \"\"\n      }\n    },\n    {\n      \"column\": \"kNN 5\",\n      \"properties\": {\n        \"dtype\": \"string\",\n        \"num_unique_values\": 1,\n        \"samples\": [\n          \"84%\"\n        ],\n        \"semantic_type\": \"\",\n        \"description\": \"\"\n      }\n    },\n    {\n      \"column\": \"kNN 10\",\n      \"properties\": {\n        \"dtype\": \"string\",\n        \"num_unique_values\": 1,\n        \"samples\": [\n          \"84%\"\n        ],\n        \"semantic_type\": \"\",\n        \"description\": \"\"\n      }\n    },\n    {\n      \"column\": \"MLP 1 Relu\",\n      \"properties\": {\n        \"dtype\": \"string\",\n        \"num_unique_values\": 1,\n        \"samples\": [\n          \"87%\"\n        ],\n        \"semantic_type\": \"\",\n        \"description\": \"\"\n      }\n    },\n    {\n      \"column\": \"MLP 1 Tanh\",\n      \"properties\": {\n        \"dtype\": \"string\",\n        \"num_unique_values\": 1,\n        \"samples\": [\n          \"88%\"\n        ],\n        \"semantic_type\": \"\",\n        \"description\": \"\"\n      }\n    },\n    {\n      \"column\": \"MLP 2 Relu\",\n      \"properties\": {\n        \"dtype\": \"string\",\n        \"num_unique_values\": 1,\n        \"samples\": [\n          \"85%\"\n        ],\n        \"semantic_type\": \"\",\n        \"description\": \"\"\n      }\n    },\n    {\n      \"column\": \"kMeans\",\n      \"properties\": {\n        \"dtype\": \"string\",\n        \"num_unique_values\": 1,\n        \"samples\": [\n          \"65%\"\n        ],\n        \"semantic_type\": \"\",\n        \"description\": \"\"\n      }\n    },\n    {\n      \"column\": \"MLP 2 Tanh\",\n      \"properties\": {\n        \"dtype\": \"string\",\n        \"num_unique_values\": 1,\n        \"samples\": [\n          \"88%\"\n        ],\n        \"semantic_type\": \"\",\n        \"description\": \"\"\n      }\n    }\n  ]\n}"
            }
          },
          "metadata": {},
          "execution_count": 81
        }
      ],
      "source": [
        "final_Results\n",
        "df = pd.DataFrame.from_dict(final_Results)\n",
        "df"
      ]
    },
    {
      "cell_type": "markdown",
      "metadata": {
        "id": "3j0r9JR_HlRW"
      },
      "source": [
        "##2- SPAMBASE"
      ]
    },
    {
      "cell_type": "code",
      "execution_count": null,
      "metadata": {
        "colab": {
          "base_uri": "https://localhost:8080/"
        },
        "id": "q6ZcVjYPw24v",
        "outputId": "a4825f21-1405-42e6-c4fa-6c343336d38a"
      },
      "outputs": [
        {
          "name": "stdout",
          "output_type": "stream",
          "text": [
            "Requirement already satisfied: ucimlrepo in /usr/local/lib/python3.11/dist-packages (0.0.7)\n",
            "Requirement already satisfied: pandas>=1.0.0 in /usr/local/lib/python3.11/dist-packages (from ucimlrepo) (2.2.2)\n",
            "Requirement already satisfied: certifi>=2020.12.5 in /usr/local/lib/python3.11/dist-packages (from ucimlrepo) (2025.1.31)\n",
            "Requirement already satisfied: numpy>=1.23.2 in /usr/local/lib/python3.11/dist-packages (from pandas>=1.0.0->ucimlrepo) (1.26.4)\n",
            "Requirement already satisfied: python-dateutil>=2.8.2 in /usr/local/lib/python3.11/dist-packages (from pandas>=1.0.0->ucimlrepo) (2.8.2)\n",
            "Requirement already satisfied: pytz>=2020.1 in /usr/local/lib/python3.11/dist-packages (from pandas>=1.0.0->ucimlrepo) (2025.1)\n",
            "Requirement already satisfied: tzdata>=2022.7 in /usr/local/lib/python3.11/dist-packages (from pandas>=1.0.0->ucimlrepo) (2025.1)\n",
            "Requirement already satisfied: six>=1.5 in /usr/local/lib/python3.11/dist-packages (from python-dateutil>=2.8.2->pandas>=1.0.0->ucimlrepo) (1.17.0)\n"
          ]
        }
      ],
      "source": [
        "!pip install ucimlrepo\n",
        "import numpy as np\n",
        "import pandas as pd\n",
        "import kagglehub\n",
        "from kagglehub import KaggleDatasetAdapter\n",
        "from ucimlrepo import fetch_ucirepo\n",
        "from sklearn import metrics\n",
        "from sklearn import preprocessing\n",
        "from sklearn.model_selection import train_test_split\n",
        "from sklearn.model_selection import cross_val_score\n",
        "from sklearn.model_selection import StratifiedKFold\n",
        "from sklearn.neural_network import MLPClassifier\n",
        "from sklearn.neighbors import KNeighborsClassifier\n",
        "from sklearn.tree import DecisionTreeClassifier\n",
        "from sklearn.cluster import KMeans\n",
        "from collections import Counter\n",
        "from sklearn import tree\n",
        "from sklearn.metrics import confusion_matrix\n",
        "import seaborn as sns\n",
        "import matplotlib.pyplot as plt\n"
      ]
    },
    {
      "cell_type": "code",
      "execution_count": null,
      "metadata": {
        "id": "89VGuZCWv6BP"
      },
      "outputs": [],
      "source": [
        "FOLDS = 10"
      ]
    },
    {
      "cell_type": "code",
      "execution_count": null,
      "metadata": {
        "id": "QddrrdmVvpBf"
      },
      "outputs": [],
      "source": [
        "def normalizar_dados(X):\n",
        "  x2 = X.values\n",
        "  min_max_scaler = preprocessing.MinMaxScaler()\n",
        "  x_scaled = min_max_scaler.fit_transform(x2)\n",
        "  X = pd.DataFrame(x_scaled)\n",
        "  return X\n",
        "\n",
        "def kfolds(folds, X, y):\n",
        "  kf = StratifiedKFold(n_splits = folds)\n",
        "\n",
        "  X_train = []\n",
        "  y_train = []\n",
        "\n",
        "  X_test = []\n",
        "  y_test = []\n",
        "\n",
        "  X = np.array(X)\n",
        "  y = np.array(y)\n",
        "\n",
        "  for train_index, test_index in kf.split(X,y):\n",
        "    X_train.append(X[train_index])\n",
        "    X_test.append(X[test_index])\n",
        "\n",
        "    y_train.append(y[train_index])\n",
        "    y_test.append(y[test_index])\n",
        "\n",
        "  return X_train, y_train, X_test, y_test\n",
        "\n",
        "def treinar_modelo(model,X_train,y_train,X_test,y_test):\n",
        "  model = model.fit(X_train, y_train)\n",
        "  result = model.predict(X_test)\n",
        "  acc = metrics.accuracy_score(result, y_test)\n",
        "  return acc, model\n",
        "\n",
        "def arvore(folds, X_train, y_train, X_test, y_test, criterion):\n",
        "  results = []\n",
        "  for i in range(folds):\n",
        "    model = DecisionTreeClassifier(criterion=criterion)\n",
        "    acc,model = treinar_modelo(model,X_train[i],y_train[i],X_test[i],y_test[i])\n",
        "    results.append(acc)\n",
        "  return results\n",
        "\n",
        "def knn(folds, X_train, y_train, X_test, y_test, k, metric, algorithm):\n",
        "  results = []\n",
        "  for i in range(folds):\n",
        "    model = KNeighborsClassifier(n_neighbors=k, metric=metric, algorithm=algorithm)\n",
        "    acc,model = treinar_modelo(model,X_train[i],y_train[i],X_test[i],y_test[i])\n",
        "    results.append(acc)\n",
        "  return results\n",
        "\n",
        "def mlp(folds, X_train, y_train, X_test, y_test, hidden_layer_sizes, activation,max_inter):\n",
        "  results = []\n",
        "  for i in range(folds):\n",
        "    model = MLPClassifier(hidden_layer_sizes=hidden_layer_sizes, activation=activation,max_iter=max_inter)\n",
        "    acc,model = treinar_modelo(model,X_train[i],y_train[i],X_test[i],y_test[i])\n",
        "    results.append(acc)\n",
        "  titulo =  f\"MLP {hidden_layer_sizes} {activation}\"\n",
        "  plotar_grafico_mlp(model.loss_curve_,titulo)\n",
        "  return results\n",
        "\n",
        "def plotar_grafico_mlp(list_loss_curve, title):\n",
        "  plt.figure(figsize=[8,6])\n",
        "  plt.plot(list_loss_curve , linewidth=3.0, color='purple', label='Curva de Perda')\n",
        "  plt.legend(fontsize=18)\n",
        "  plt.xlabel('Época ', fontsize=16)\n",
        "  plt.ylabel('Perda', fontsize=16)\n",
        "  plt.title(title, fontsize=16)\n",
        "  plt.show()\n",
        "  return\n",
        "\n",
        "def kmeans(folds, X_train, y_train, X_test, y_test, clusters):\n",
        "  results = []\n",
        "  for j in range(folds):\n",
        "    model = KMeans(n_clusters = clusters, n_init=10)\n",
        "    model = model.fit(X_train[j])\n",
        "\n",
        "    labels = model.labels_\n",
        "\n",
        "    map_labels = []\n",
        "\n",
        "    for i in range(clusters):\n",
        "      map_labels.append([])\n",
        "\n",
        "    new_y_train = y_train[j].tolist()\n",
        "\n",
        "    for i in range(len(y_train[j])):\n",
        "      for c in range(clusters):\n",
        "        if labels[i] == c:\n",
        "          map_labels[c].append(new_y_train[i])\n",
        "\n",
        "    mapping = {}\n",
        "\n",
        "    for i in range(clusters):\n",
        "      final = Counter(map_labels[i])\n",
        "      value = final.most_common(1)[0][0]\n",
        "      mapping[i] = value\n",
        "\n",
        "    result = model.predict(X_test[j])\n",
        "    result = [mapping[i] for i in result]\n",
        "\n",
        "    acc = metrics.accuracy_score(result, y_test[j])\n",
        "    results.append(acc)\n",
        "  return results"
      ]
    },
    {
      "cell_type": "code",
      "execution_count": null,
      "metadata": {
        "id": "v8E9lYmmuSXm"
      },
      "outputs": [],
      "source": [
        "spambase = fetch_ucirepo(id=94)\n",
        "\n",
        "# Inspecionar o conteúdo do dataset\n",
        "X = spambase.data.features\n",
        "y = spambase.data.targets\n",
        "y = np.reshape(y, (-1,))\n",
        "X"
      ]
    },
    {
      "cell_type": "code",
      "execution_count": null,
      "metadata": {
        "id": "EivdA-5CoJo8"
      },
      "outputs": [],
      "source": [
        "X = normalizar_dados(X)\n",
        "X"
      ]
    },
    {
      "cell_type": "code",
      "execution_count": null,
      "metadata": {
        "id": "h1_3E6h_cKYJ"
      },
      "outputs": [],
      "source": [
        "X_train, y_train, X_test, y_test = kfolds(FOLDS, X, y)\n"
      ]
    },
    {
      "cell_type": "code",
      "execution_count": null,
      "metadata": {
        "id": "azi_H6djUGOW"
      },
      "outputs": [],
      "source": [
        "final_Results = {}\n",
        "results_tree_gini = arvore(FOLDS,X_train,y_train,X_test,y_test,\"gini\")\n",
        "\n",
        "#print(results_tree_gini)\n",
        "show = round(np.mean(results_tree_gini) * 100)\n",
        "final_Results[\"Tree Gini\"] = [f\"{show}%\"]\n",
        "print(\"{}%\".format(show))"
      ]
    },
    {
      "cell_type": "code",
      "execution_count": null,
      "metadata": {
        "id": "ertsqiBoUEMc"
      },
      "outputs": [],
      "source": [
        "results_tree_entropy = arvore(FOLDS,X_train,y_train,X_test,y_test,\"entropy\")\n",
        "\n",
        "#print(results_tree_entropy)\n",
        "show = round(np.mean(results_tree_entropy) * 100)\n",
        "final_Results[\"Tree Entropy\"] = [f\"{show}%\"]\n",
        "print(\"{}%\".format(show))\n"
      ]
    },
    {
      "cell_type": "code",
      "execution_count": null,
      "metadata": {
        "id": "WtI81WoGUB0z"
      },
      "outputs": [],
      "source": [
        "results_KNN_5 = knn(FOLDS,X_train,y_train,X_test,y_test,5,'euclidean','brute')\n",
        "\n",
        "#print(results_KNN_5)\n",
        "show = round(np.mean(results_KNN_5) * 100)\n",
        "final_Results[\"kNN 5\"] = [f\"{show}%\"]\n",
        "print(\"{}%\".format(show))\n"
      ]
    },
    {
      "cell_type": "code",
      "execution_count": null,
      "metadata": {
        "id": "zeVrOR4qT_pm"
      },
      "outputs": [],
      "source": [
        "results_KNN_10 = knn(FOLDS,X_train,y_train,X_test,y_test,10,'euclidean','brute')\n",
        "\n",
        "#print(results_KNN_10)\n",
        "show = round(np.mean(results_KNN_10) * 100)\n",
        "final_Results[\"kNN 10\"] = [f\"{show}%\"]\n",
        "print(\"{}%\".format(show))\n"
      ]
    },
    {
      "cell_type": "code",
      "execution_count": null,
      "metadata": {
        "id": "-xazssV-T70M"
      },
      "outputs": [],
      "source": [
        "results_MLP_1_Relu = mlp(FOLDS,X_train,y_train,X_test,y_test,(40,20),'relu',2000)\n",
        "\n",
        "#print(results_MLP_1_Relu)\n",
        "show = round(np.mean(results_MLP_1_Relu) * 100)\n",
        "final_Results[\"MLP 1 Relu\"] = [f\"{show}%\"]\n",
        "print(\"{}%\".format(show))\n"
      ]
    },
    {
      "cell_type": "code",
      "execution_count": null,
      "metadata": {
        "id": "YMWzs40LT5cL"
      },
      "outputs": [],
      "source": [
        "results_MLP_1_Tanh = mlp(FOLDS,X_train,y_train,X_test,y_test,(40,20),'tanh',2000)\n",
        "\n",
        "#print(results_MLP_1_Tanh)\n",
        "show = round(np.mean(results_MLP_1_Tanh) * 100)\n",
        "final_Results[\"MLP 1 Tanh\"] = [f\"{show}%\"]\n",
        "print(\"{}%\".format(show))\n"
      ]
    },
    {
      "cell_type": "code",
      "execution_count": null,
      "metadata": {
        "id": "t2-FEQPzT2yV"
      },
      "outputs": [],
      "source": [
        "results_MLP_2_Relu = mlp(FOLDS,X_train,y_train,X_test,y_test,(30,20,10,5),'relu',2000)\n",
        "\n",
        "#print(results_MLP_2_Relu)\n",
        "show = round(np.mean(results_MLP_2_Relu) * 100)\n",
        "final_Results[\"MLP 2 Relu\"] = [f\"{show}%\"]\n",
        "print(\"{}%\".format(show))\n"
      ]
    },
    {
      "cell_type": "code",
      "execution_count": null,
      "metadata": {
        "id": "GROawqkxT0Ne"
      },
      "outputs": [],
      "source": [
        "results_MLP_2_Tanh = mlp(FOLDS,X_train,y_train,X_test,y_test,(30,20,10,5),'tanh',2000)\n",
        "\n",
        "#print(results_MLP_2_Tanh)\n",
        "show = round(np.mean(results_MLP_2_Tanh) * 100)\n",
        "final_Results[\"MLP 2 Tanh\"] = [f\"{show}%\"]\n",
        "print(\"{}%\".format(show))\n"
      ]
    },
    {
      "cell_type": "code",
      "execution_count": null,
      "metadata": {
        "id": "WYkFW2vBTxEr"
      },
      "outputs": [],
      "source": [
        "clusters = len(set(y))\n",
        "print(clusters)\n",
        "results_KMEANS = kmeans(FOLDS,X_train,y_train,X_test,y_test,clusters)\n",
        "\n",
        "#print(results_KMEANS)\n",
        "show = round(np.mean(results_KMEANS) * 100)\n",
        "final_Results[\"kMeans\"] = [f\"{show}%\"]\n",
        "print(\"{}%\".format(show))"
      ]
    },
    {
      "cell_type": "code",
      "execution_count": null,
      "metadata": {
        "id": "f4HP0vUeTR5-"
      },
      "outputs": [],
      "source": [
        "final_Results\n",
        "df = pd.DataFrame.from_dict(final_Results)\n",
        "df"
      ]
    },
    {
      "cell_type": "markdown",
      "metadata": {
        "id": "-v-ryj9ah4Rd"
      },
      "source": [
        "#testes só viu boy\n"
      ]
    }
  ],
  "metadata": {
    "colab": {
      "provenance": [],
      "include_colab_link": true
    },
    "kernelspec": {
      "display_name": "Python 3",
      "name": "python3"
    },
    "language_info": {
      "name": "python"
    }
  },
  "nbformat": 4,
  "nbformat_minor": 0
}