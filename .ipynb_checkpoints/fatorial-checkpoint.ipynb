{
 "cells": [
  {
   "metadata": {},
   "cell_type": "markdown",
   "source": [
    "# Cálculo do Fatorial\n",
    "\n",
    "Este script em Python calcula o fatorial de um número fornecido usando recursão.\n",
    "\n",
    "## Como o script funciona:\n",
    "\n",
    "- **Definição da função**: Uma função recursiva `factorial(n)` calcula o fatorial de `n`.\n",
    "- **Caso base**: Se `n` for 0 ou 1, a função retorna 1.\n",
    "- **Caso recursivo**: Caso contrário, a função multiplica `n` pelo fatorial de `n-1`.\n",
    "- **Entrada**: O script recebe um número inteiro como entrada do usuário.\n",
    "- **Saída**: Ele imprime o fatorial do número inserido.\n",
    "\n",
    "### Exemplo de Uso:\n",
    "\n",
    "Se você inserir o número `5`, o script calculará:\n",
    "\n",
    "`5! = 5 * 4 * 3 * 2 * 1 = 120`\n",
    "\n",
    "### Equação do Fatorial:\n",
    "\n",
    "O fatorial de um número inteiro não negativo \\( n \\) é o produto de todos os inteiros positivos menores ou iguais a \\( n \\). Ele é denotado por \\( n! \\) e pode ser representado como:\n",
    "\n",
    "\\[\n",
    "n! = n \\times (n-1) \\times (n-2) \\times \\ldots \\times 1\n",
    "\\]\n",
    "\n",
    "Para \\( n = 0 \\), definimos \\( 0! = 1 \\).\n"
   ],
   "id": "56c940a62c32e754"
  },
  {
   "metadata": {},
   "cell_type": "code",
   "outputs": [],
   "execution_count": null,
   "source": [
    "def factorial(n):\n",
    "    if n == 0 or n == 1:\n",
    "        return 1\n",
    "    else:\n",
    "        return n * factorial(n - 1)\n",
    "\n",
    "num = int(input(\"Insira um número para resgatar fatorial: \"))\n",
    "\n",
    "print(f\"A fatorial de{num} de {factorial(num)}\")\n"
   ],
   "id": "c1d6279c5c60595b"
  },
  {
   "cell_type": "code",
   "execution_count": null,
   "id": "initial_id",
   "metadata": {
    "collapsed": true
   },
   "outputs": [],
   "source": [
    ""
   ]
  }
 ],
 "metadata": {
  "kernelspec": {
   "display_name": "Python 3",
   "language": "python",
   "name": "python3"
  },
  "language_info": {
   "codemirror_mode": {
    "name": "ipython",
    "version": 2
   },
   "file_extension": ".py",
   "mimetype": "text/x-python",
   "name": "python",
   "nbconvert_exporter": "python",
   "pygments_lexer": "ipython2",
   "version": "2.7.6"
  }
 },
 "nbformat": 4,
 "nbformat_minor": 5
}
