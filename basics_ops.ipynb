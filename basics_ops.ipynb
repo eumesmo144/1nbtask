{
 "cells": [
  {
   "metadata": {},
   "cell_type": "markdown",
   "source": [
    "## Operações básicas\n",
    " Notebook de operações básicas\n",
    "\n",
    "## Soma"
   ],
   "id": "62122b7abf09e193"
  },
  {
   "cell_type": "code",
   "id": "ebe1c42d-bc0b-48ae-b3bb-adca655bdc18",
   "metadata": {
    "ExecuteTime": {
     "end_time": "2024-09-15T17:41:08.036177Z",
     "start_time": "2024-09-15T17:41:08.032561Z"
    }
   },
   "source": [
    "def soma(a, b):\n",
    "    r = a + b  \n",
    "    print('A soma é',r)\n",
    "\n",
    "soma(3,5)"
   ],
   "outputs": [
    {
     "name": "stdout",
     "output_type": "stream",
     "text": [
      "resultado é 8\n"
     ]
    }
   ],
   "execution_count": 3
  },
  {
   "metadata": {},
   "cell_type": "markdown",
   "source": "## Subtração",
   "id": "906ef11b27510ae6"
  },
  {
   "metadata": {
    "ExecuteTime": {
     "end_time": "2024-09-15T17:42:20.669530Z",
     "start_time": "2024-09-15T17:42:20.666439Z"
    }
   },
   "cell_type": "code",
   "source": [
    "def sub(a,b):\n",
    "    r = a - b\n",
    "    print('A subtração é',r)\n",
    "    \n",
    "sub(3,5)"
   ],
   "id": "ca961c1ac77fbe2c",
   "outputs": [],
   "execution_count": 4
  },
  {
   "metadata": {},
   "cell_type": "markdown",
   "source": "## Divisão",
   "id": "b82056c56720fdef"
  },
  {
   "metadata": {
    "ExecuteTime": {
     "end_time": "2024-09-15T17:44:16.711271Z",
     "start_time": "2024-09-15T17:44:16.706578Z"
    }
   },
   "cell_type": "code",
   "source": [
    "def div(a,b):\n",
    "    r = a / b\n",
    "    print('A divisão é',r)\n",
    "    \n",
    "div(6,3)"
   ],
   "id": "a0b71091062f124a",
   "outputs": [
    {
     "name": "stdout",
     "output_type": "stream",
     "text": [
      "A divisão é 2.0\n"
     ]
    }
   ],
   "execution_count": 7
  },
  {
   "metadata": {},
   "cell_type": "markdown",
   "source": "## Multiplicação",
   "id": "6214c2e2769ed2ca"
  },
  {
   "metadata": {
    "ExecuteTime": {
     "end_time": "2024-09-15T17:43:59.379136Z",
     "start_time": "2024-09-15T17:43:59.373645Z"
    }
   },
   "cell_type": "code",
   "source": [
    "def mult(a,b):\n",
    "    r = a * b\n",
    "    print('A multiplicação é',r)\n",
    "    \n",
    "mult(3,5)"
   ],
   "id": "724cc1b396ef7dc0",
   "outputs": [
    {
     "name": "stdout",
     "output_type": "stream",
     "text": [
      "A multiplicação é 15\n"
     ]
    }
   ],
   "execution_count": 5
  }
 ],
 "metadata": {
  "kernelspec": {
   "display_name": "Python 3 (ipykernel)",
   "name": "python3",
   "language": "python"
  },
  "language_info": {
   "name": ""
  }
 },
 "nbformat": 4,
 "nbformat_minor": 5
}
